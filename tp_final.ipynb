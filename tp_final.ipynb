{
  "nbformat": 4,
  "nbformat_minor": 0,
  "metadata": {
    "colab": {
      "provenance": [],
      "collapsed_sections": [
        "MKK6vDzq6eQZ",
        "Zb4xzRFndQ-i",
        "YHg-Mg1BdwlI",
        "eQaqxZEhfEH6",
        "mb09SRqgr0p2",
        "iizdMPplrXDD",
        "28ygnS6htzcP",
        "25vCe3UIu7av",
        "Es3fFVe97B3Y",
        "ZLmm8Tra7I3p",
        "FVcIZSbD7Xun",
        "KaCPB-xIBe5m",
        "aUHZbFmyCwJe",
        "vT0uW5mrCfdC",
        "-IJLCZx3Ckqn",
        "bcZgPnNeDTIG",
        "qKrQU0E3Deov",
        "SWsmWdmqvIUd",
        "Hma0DjlHyrVC",
        "a13OFsn8ilnn",
        "62XTDbmYEA7S"
      ]
    },
    "kernelspec": {
      "name": "python3",
      "display_name": "Python 3"
    },
    "language_info": {
      "name": "python"
    }
  },
  "cells": [
    {
      "cell_type": "markdown",
      "source": [
        "####**Carga de paquetes**"
      ],
      "metadata": {
        "id": "MKK6vDzq6eQZ"
      }
    },
    {
      "cell_type": "code",
      "execution_count": 255,
      "metadata": {
        "colab": {
          "base_uri": "https://localhost:8080/"
        },
        "collapsed": true,
        "id": "VlfLAB0DXVJU",
        "outputId": "216831b6-ddd3-4ae5-ffe9-7bd985fb50fc"
      },
      "outputs": [
        {
          "output_type": "stream",
          "name": "stdout",
          "text": [
            "Requirement already satisfied: geopandas in /usr/local/lib/python3.10/dist-packages (0.13.2)\n",
            "Requirement already satisfied: fiona>=1.8.19 in /usr/local/lib/python3.10/dist-packages (from geopandas) (1.9.6)\n",
            "Requirement already satisfied: packaging in /usr/local/lib/python3.10/dist-packages (from geopandas) (24.0)\n",
            "Requirement already satisfied: pandas>=1.1.0 in /usr/local/lib/python3.10/dist-packages (from geopandas) (2.0.3)\n",
            "Requirement already satisfied: pyproj>=3.0.1 in /usr/local/lib/python3.10/dist-packages (from geopandas) (3.6.1)\n",
            "Requirement already satisfied: shapely>=1.7.1 in /usr/local/lib/python3.10/dist-packages (from geopandas) (2.0.4)\n",
            "Requirement already satisfied: attrs>=19.2.0 in /usr/local/lib/python3.10/dist-packages (from fiona>=1.8.19->geopandas) (23.2.0)\n",
            "Requirement already satisfied: certifi in /usr/local/lib/python3.10/dist-packages (from fiona>=1.8.19->geopandas) (2024.2.2)\n",
            "Requirement already satisfied: click~=8.0 in /usr/local/lib/python3.10/dist-packages (from fiona>=1.8.19->geopandas) (8.1.7)\n",
            "Requirement already satisfied: click-plugins>=1.0 in /usr/local/lib/python3.10/dist-packages (from fiona>=1.8.19->geopandas) (1.1.1)\n",
            "Requirement already satisfied: cligj>=0.5 in /usr/local/lib/python3.10/dist-packages (from fiona>=1.8.19->geopandas) (0.7.2)\n",
            "Requirement already satisfied: six in /usr/local/lib/python3.10/dist-packages (from fiona>=1.8.19->geopandas) (1.16.0)\n",
            "Requirement already satisfied: python-dateutil>=2.8.2 in /usr/local/lib/python3.10/dist-packages (from pandas>=1.1.0->geopandas) (2.8.2)\n",
            "Requirement already satisfied: pytz>=2020.1 in /usr/local/lib/python3.10/dist-packages (from pandas>=1.1.0->geopandas) (2023.4)\n",
            "Requirement already satisfied: tzdata>=2022.1 in /usr/local/lib/python3.10/dist-packages (from pandas>=1.1.0->geopandas) (2024.1)\n",
            "Requirement already satisfied: numpy>=1.21.0 in /usr/local/lib/python3.10/dist-packages (from pandas>=1.1.0->geopandas) (1.25.2)\n",
            "Requirement already satisfied: formulaic in /usr/local/lib/python3.10/dist-packages (1.0.1)\n",
            "Requirement already satisfied: interface-meta>=1.2.0 in /usr/local/lib/python3.10/dist-packages (from formulaic) (1.3.0)\n",
            "Requirement already satisfied: numpy>=1.16.5 in /usr/local/lib/python3.10/dist-packages (from formulaic) (1.25.2)\n",
            "Requirement already satisfied: pandas>=1.0 in /usr/local/lib/python3.10/dist-packages (from formulaic) (2.0.3)\n",
            "Requirement already satisfied: scipy>=1.6 in /usr/local/lib/python3.10/dist-packages (from formulaic) (1.11.4)\n",
            "Requirement already satisfied: typing-extensions>=4.2.0 in /usr/local/lib/python3.10/dist-packages (from formulaic) (4.11.0)\n",
            "Requirement already satisfied: wrapt>=1.0 in /usr/local/lib/python3.10/dist-packages (from formulaic) (1.14.1)\n",
            "Requirement already satisfied: python-dateutil>=2.8.2 in /usr/local/lib/python3.10/dist-packages (from pandas>=1.0->formulaic) (2.8.2)\n",
            "Requirement already satisfied: pytz>=2020.1 in /usr/local/lib/python3.10/dist-packages (from pandas>=1.0->formulaic) (2023.4)\n",
            "Requirement already satisfied: tzdata>=2022.1 in /usr/local/lib/python3.10/dist-packages (from pandas>=1.0->formulaic) (2024.1)\n",
            "Requirement already satisfied: six>=1.5 in /usr/local/lib/python3.10/dist-packages (from python-dateutil>=2.8.2->pandas>=1.0->formulaic) (1.16.0)\n"
          ]
        }
      ],
      "source": [
        "!pip install geopandas && pip install formulaic"
      ]
    },
    {
      "cell_type": "code",
      "source": [
        "import numpy as np\n",
        "import math\n",
        "import pandas as pd\n",
        "\n",
        "# Herramientas para visualización\n",
        "import seaborn.objects as so\n",
        "import matplotlib.pyplot as plt\n",
        "import seaborn as sns\n",
        "\n",
        "\n",
        "# Para hacer el mapa de calor\n",
        "import geopandas as gpd\n",
        "import requests\n",
        "\n",
        "# Para calcular modelar\n",
        "from formulaic import Formula\n",
        "from sklearn import linear_model    # Herramientas de modelos lineales\n",
        "from sklearn.metrics import mean_squared_error, r2_score    # Medidas de desempeño\n",
        "from sklearn.preprocessing import PolynomialFeatures    # Herramientas de polinomios\n",
        "from sklearn.model_selection import train_test_split, KFold, cross_val_score, GridSearchCV"
      ],
      "metadata": {
        "id": "a8tZa5VIca1z"
      },
      "execution_count": 251,
      "outputs": []
    },
    {
      "cell_type": "markdown",
      "source": [
        "### **Procesamiento de datos**\n"
      ],
      "metadata": {
        "id": "Zb4xzRFndQ-i"
      }
    },
    {
      "cell_type": "markdown",
      "source": [
        "#### 1(a).  Visualizar el tipo de datos de cada columna. Transformar la columna DIA_TRANSPORTE para que sea reconocida como una fecha. Sugerencia: investigar la función to_datetime de pandas. Para completar el argumento format, revisar la documentación de datetime\n",
        "\n",
        "\n",
        "\n",
        "\n",
        "\n",
        "\n",
        "\n",
        "\n",
        "\n",
        "\n"
      ],
      "metadata": {
        "id": "SQd1y3edcnML"
      }
    },
    {
      "cell_type": "code",
      "source": [
        "datos = pd.read_csv('sube-2023.csv')\n",
        "\n",
        "# Convertimos a la columna DIA_TRANSPORTE para que sea reconocida a como una fecha\n",
        "datos['DIA_TRANSPORTE'] = pd.to_datetime(datos['DIA_TRANSPORTE'], format='%Y-%m-%d')"
      ],
      "metadata": {
        "id": "LcHyLWRXcjJV"
      },
      "execution_count": 241,
      "outputs": []
    },
    {
      "cell_type": "markdown",
      "source": [
        "####1(b). Agregar tres columnas al DataFrame:\n",
        "\n",
        "1.    FECHA_DIA : debe indicar el nombre del día de la semana correspondiente a DIA_TRANSPORTE\n",
        "2.    FECHA_ORDINAL : debe indicar el ordinal correspondiente a DIA_TRANSPORTE (por ejemplo, a 2023-01-01 le corresponde 1, a 2023-01-02 le corresponde 2 y así sucesivamente). Debe ser un entero (int).\n",
        "3.   FECHA_MES : debe indicar el mes correspondiente a DIA_TRANSPORTE\n",
        "Sugerencia: investigar el método apply de DataFrame"
      ],
      "metadata": {
        "id": "YHg-Mg1BdwlI"
      }
    },
    {
      "cell_type": "code",
      "source": [
        "# Agregamos a nuestra DataFrame las columnas indicadas\n",
        "\n",
        "# Agregamos la columna de fecha_dia con el formato observado en el ejemplo, solamente con 3 carácteres\n",
        "datos['fecha_dia'] = datos['DIA_TRANSPORTE'].dt.day_name().str[:3]\n",
        "# Agregamos la columna de fecha_mes en formato 'MM', 2 dígitos para el mes\n",
        "datos['fecha_mes'] = datos['DIA_TRANSPORTE'].dt.strftime('%m')\n",
        "# Agregamos la columna de fecha_ordinal indicando el día ordinal del año\n",
        "datos['fecha_ordinal'] = datos['DIA_TRANSPORTE'].dt.dayofyear\n",
        "\n",
        "# Tests\n",
        "# DIA_TRANSPORTE tiene que ser tipo datetime\n",
        "assert datos['DIA_TRANSPORTE'].dtype == 'datetime64[ns]'\n",
        "\n",
        "# Dias de la semana\n",
        "assert datos['fecha_dia'].drop_duplicates().count() == 7 # Tienen que ser 7 dias distintos\n",
        "\n",
        "# Tiene que haber 365 dias distintos en el año\n",
        "assert datos['fecha_ordinal'].drop_duplicates().count() == 365"
      ],
      "metadata": {
        "id": "DeEP91SneB-_"
      },
      "execution_count": 5,
      "outputs": []
    },
    {
      "cell_type": "markdown",
      "source": [
        "#####2. Crear el DataFrame datos_amba, el cual sólo debe tener datos de AMBA y debe excluir datos preliminares. Además, al ejecutar datos_amba.head() debe observarse el siguiente orden y formato de columnas:"
      ],
      "metadata": {
        "id": "eQaqxZEhfEH6"
      }
    },
    {
      "cell_type": "code",
      "source": [
        "#Creamos un nuevo data frame con los valores a trabajar solicitados.\n",
        "datos_filtrados = datos[datos['DATO_PRELIMINAR'] == \"NO\"]\n",
        "\n",
        "#Seleccionamos las columnas correspondientes a visualizar.\n",
        "column_order  = ['DIA_TRANSPORTE', 'fecha_dia', 'fecha_mes', 'fecha_ordinal', 'JURISDICCION', 'LINEA', 'CANTIDAD', 'TIPO_TRANSPORTE']\n",
        "datos_amba = datos_filtrados[datos['AMBA'] == 'SI'][column_order]\n",
        "\n",
        "# me guardo los datos totales por que me van a servir para mas adelante\n",
        "datos_totales = datos_filtrados[column_order + ['AMBA']] # estos contienne todos los datos (amba y no amba)\n",
        "\n",
        "#Renombramos las columnas correspondientes y colocamos el formato correcto.\n",
        "datos_totales = datos_filtrados.rename(columns = {\"DIA_TRANSPORTE\" : \"fecha\", \"CANTIDAD\" : \"pasajeros\"})\n",
        "datos_amba = datos_amba.rename(columns = {\"DIA_TRANSPORTE\" : \"fecha\", \"CANTIDAD\" : \"pasajeros\"})\n",
        "\n",
        "#Renombramos las columnas en un formato que sea minúsculas\n",
        "datos_amba = datos_amba.rename(columns = str.lower)\n",
        "datos_totales = datos_totales.rename(columns = str.lower)\n",
        "\n",
        "#Visualizamos\n",
        "datos_amba.head()"
      ],
      "metadata": {
        "id": "x_pBLlirfCbO",
        "colab": {
          "base_uri": "https://localhost:8080/",
          "height": 241
        },
        "outputId": "2b7c632f-28f0-4ddc-85be-2f84a5d5949b"
      },
      "execution_count": 6,
      "outputs": [
        {
          "output_type": "stream",
          "name": "stderr",
          "text": [
            "<ipython-input-6-e27233bbd906>:6: UserWarning: Boolean Series key will be reindexed to match DataFrame index.\n",
            "  datos_amba = datos_filtrados[datos['AMBA'] == 'SI'][column_order]\n"
          ]
        },
        {
          "output_type": "execute_result",
          "data": {
            "text/plain": [
              "       fecha fecha_dia fecha_mes  fecha_ordinal jurisdiccion            linea  \\\n",
              "0 2023-01-01       Sun        01              1    MUNICIPAL                1   \n",
              "1 2023-01-01       Sun        01              1    MUNICIPAL               2B   \n",
              "3 2023-01-01       Sun        01              1   PROVINCIAL  BS_AS_LINEA_326   \n",
              "5 2023-01-01       Sun        01              1    MUNICIPAL  BS_AS_LINEA_514   \n",
              "6 2023-01-01       Sun        01              1    MUNICIPAL  BS_AS_LINEA_522   \n",
              "\n",
              "   pasajeros tipo_transporte  \n",
              "0         61       COLECTIVO  \n",
              "1         11       COLECTIVO  \n",
              "3        438       COLECTIVO  \n",
              "5       3067       COLECTIVO  \n",
              "6        332       COLECTIVO  "
            ],
            "text/html": [
              "\n",
              "  <div id=\"df-eabee8ac-131d-4e87-b4fd-91a08622a2fe\" class=\"colab-df-container\">\n",
              "    <div>\n",
              "<style scoped>\n",
              "    .dataframe tbody tr th:only-of-type {\n",
              "        vertical-align: middle;\n",
              "    }\n",
              "\n",
              "    .dataframe tbody tr th {\n",
              "        vertical-align: top;\n",
              "    }\n",
              "\n",
              "    .dataframe thead th {\n",
              "        text-align: right;\n",
              "    }\n",
              "</style>\n",
              "<table border=\"1\" class=\"dataframe\">\n",
              "  <thead>\n",
              "    <tr style=\"text-align: right;\">\n",
              "      <th></th>\n",
              "      <th>fecha</th>\n",
              "      <th>fecha_dia</th>\n",
              "      <th>fecha_mes</th>\n",
              "      <th>fecha_ordinal</th>\n",
              "      <th>jurisdiccion</th>\n",
              "      <th>linea</th>\n",
              "      <th>pasajeros</th>\n",
              "      <th>tipo_transporte</th>\n",
              "    </tr>\n",
              "  </thead>\n",
              "  <tbody>\n",
              "    <tr>\n",
              "      <th>0</th>\n",
              "      <td>2023-01-01</td>\n",
              "      <td>Sun</td>\n",
              "      <td>01</td>\n",
              "      <td>1</td>\n",
              "      <td>MUNICIPAL</td>\n",
              "      <td>1</td>\n",
              "      <td>61</td>\n",
              "      <td>COLECTIVO</td>\n",
              "    </tr>\n",
              "    <tr>\n",
              "      <th>1</th>\n",
              "      <td>2023-01-01</td>\n",
              "      <td>Sun</td>\n",
              "      <td>01</td>\n",
              "      <td>1</td>\n",
              "      <td>MUNICIPAL</td>\n",
              "      <td>2B</td>\n",
              "      <td>11</td>\n",
              "      <td>COLECTIVO</td>\n",
              "    </tr>\n",
              "    <tr>\n",
              "      <th>3</th>\n",
              "      <td>2023-01-01</td>\n",
              "      <td>Sun</td>\n",
              "      <td>01</td>\n",
              "      <td>1</td>\n",
              "      <td>PROVINCIAL</td>\n",
              "      <td>BS_AS_LINEA_326</td>\n",
              "      <td>438</td>\n",
              "      <td>COLECTIVO</td>\n",
              "    </tr>\n",
              "    <tr>\n",
              "      <th>5</th>\n",
              "      <td>2023-01-01</td>\n",
              "      <td>Sun</td>\n",
              "      <td>01</td>\n",
              "      <td>1</td>\n",
              "      <td>MUNICIPAL</td>\n",
              "      <td>BS_AS_LINEA_514</td>\n",
              "      <td>3067</td>\n",
              "      <td>COLECTIVO</td>\n",
              "    </tr>\n",
              "    <tr>\n",
              "      <th>6</th>\n",
              "      <td>2023-01-01</td>\n",
              "      <td>Sun</td>\n",
              "      <td>01</td>\n",
              "      <td>1</td>\n",
              "      <td>MUNICIPAL</td>\n",
              "      <td>BS_AS_LINEA_522</td>\n",
              "      <td>332</td>\n",
              "      <td>COLECTIVO</td>\n",
              "    </tr>\n",
              "  </tbody>\n",
              "</table>\n",
              "</div>\n",
              "    <div class=\"colab-df-buttons\">\n",
              "\n",
              "  <div class=\"colab-df-container\">\n",
              "    <button class=\"colab-df-convert\" onclick=\"convertToInteractive('df-eabee8ac-131d-4e87-b4fd-91a08622a2fe')\"\n",
              "            title=\"Convert this dataframe to an interactive table.\"\n",
              "            style=\"display:none;\">\n",
              "\n",
              "  <svg xmlns=\"http://www.w3.org/2000/svg\" height=\"24px\" viewBox=\"0 -960 960 960\">\n",
              "    <path d=\"M120-120v-720h720v720H120Zm60-500h600v-160H180v160Zm220 220h160v-160H400v160Zm0 220h160v-160H400v160ZM180-400h160v-160H180v160Zm440 0h160v-160H620v160ZM180-180h160v-160H180v160Zm440 0h160v-160H620v160Z\"/>\n",
              "  </svg>\n",
              "    </button>\n",
              "\n",
              "  <style>\n",
              "    .colab-df-container {\n",
              "      display:flex;\n",
              "      gap: 12px;\n",
              "    }\n",
              "\n",
              "    .colab-df-convert {\n",
              "      background-color: #E8F0FE;\n",
              "      border: none;\n",
              "      border-radius: 50%;\n",
              "      cursor: pointer;\n",
              "      display: none;\n",
              "      fill: #1967D2;\n",
              "      height: 32px;\n",
              "      padding: 0 0 0 0;\n",
              "      width: 32px;\n",
              "    }\n",
              "\n",
              "    .colab-df-convert:hover {\n",
              "      background-color: #E2EBFA;\n",
              "      box-shadow: 0px 1px 2px rgba(60, 64, 67, 0.3), 0px 1px 3px 1px rgba(60, 64, 67, 0.15);\n",
              "      fill: #174EA6;\n",
              "    }\n",
              "\n",
              "    .colab-df-buttons div {\n",
              "      margin-bottom: 4px;\n",
              "    }\n",
              "\n",
              "    [theme=dark] .colab-df-convert {\n",
              "      background-color: #3B4455;\n",
              "      fill: #D2E3FC;\n",
              "    }\n",
              "\n",
              "    [theme=dark] .colab-df-convert:hover {\n",
              "      background-color: #434B5C;\n",
              "      box-shadow: 0px 1px 3px 1px rgba(0, 0, 0, 0.15);\n",
              "      filter: drop-shadow(0px 1px 2px rgba(0, 0, 0, 0.3));\n",
              "      fill: #FFFFFF;\n",
              "    }\n",
              "  </style>\n",
              "\n",
              "    <script>\n",
              "      const buttonEl =\n",
              "        document.querySelector('#df-eabee8ac-131d-4e87-b4fd-91a08622a2fe button.colab-df-convert');\n",
              "      buttonEl.style.display =\n",
              "        google.colab.kernel.accessAllowed ? 'block' : 'none';\n",
              "\n",
              "      async function convertToInteractive(key) {\n",
              "        const element = document.querySelector('#df-eabee8ac-131d-4e87-b4fd-91a08622a2fe');\n",
              "        const dataTable =\n",
              "          await google.colab.kernel.invokeFunction('convertToInteractive',\n",
              "                                                    [key], {});\n",
              "        if (!dataTable) return;\n",
              "\n",
              "        const docLinkHtml = 'Like what you see? Visit the ' +\n",
              "          '<a target=\"_blank\" href=https://colab.research.google.com/notebooks/data_table.ipynb>data table notebook</a>'\n",
              "          + ' to learn more about interactive tables.';\n",
              "        element.innerHTML = '';\n",
              "        dataTable['output_type'] = 'display_data';\n",
              "        await google.colab.output.renderOutput(dataTable, element);\n",
              "        const docLink = document.createElement('div');\n",
              "        docLink.innerHTML = docLinkHtml;\n",
              "        element.appendChild(docLink);\n",
              "      }\n",
              "    </script>\n",
              "  </div>\n",
              "\n",
              "\n",
              "<div id=\"df-c17ef6d9-59c2-4502-bb3e-3dcdfd954c81\">\n",
              "  <button class=\"colab-df-quickchart\" onclick=\"quickchart('df-c17ef6d9-59c2-4502-bb3e-3dcdfd954c81')\"\n",
              "            title=\"Suggest charts\"\n",
              "            style=\"display:none;\">\n",
              "\n",
              "<svg xmlns=\"http://www.w3.org/2000/svg\" height=\"24px\"viewBox=\"0 0 24 24\"\n",
              "     width=\"24px\">\n",
              "    <g>\n",
              "        <path d=\"M19 3H5c-1.1 0-2 .9-2 2v14c0 1.1.9 2 2 2h14c1.1 0 2-.9 2-2V5c0-1.1-.9-2-2-2zM9 17H7v-7h2v7zm4 0h-2V7h2v10zm4 0h-2v-4h2v4z\"/>\n",
              "    </g>\n",
              "</svg>\n",
              "  </button>\n",
              "\n",
              "<style>\n",
              "  .colab-df-quickchart {\n",
              "      --bg-color: #E8F0FE;\n",
              "      --fill-color: #1967D2;\n",
              "      --hover-bg-color: #E2EBFA;\n",
              "      --hover-fill-color: #174EA6;\n",
              "      --disabled-fill-color: #AAA;\n",
              "      --disabled-bg-color: #DDD;\n",
              "  }\n",
              "\n",
              "  [theme=dark] .colab-df-quickchart {\n",
              "      --bg-color: #3B4455;\n",
              "      --fill-color: #D2E3FC;\n",
              "      --hover-bg-color: #434B5C;\n",
              "      --hover-fill-color: #FFFFFF;\n",
              "      --disabled-bg-color: #3B4455;\n",
              "      --disabled-fill-color: #666;\n",
              "  }\n",
              "\n",
              "  .colab-df-quickchart {\n",
              "    background-color: var(--bg-color);\n",
              "    border: none;\n",
              "    border-radius: 50%;\n",
              "    cursor: pointer;\n",
              "    display: none;\n",
              "    fill: var(--fill-color);\n",
              "    height: 32px;\n",
              "    padding: 0;\n",
              "    width: 32px;\n",
              "  }\n",
              "\n",
              "  .colab-df-quickchart:hover {\n",
              "    background-color: var(--hover-bg-color);\n",
              "    box-shadow: 0 1px 2px rgba(60, 64, 67, 0.3), 0 1px 3px 1px rgba(60, 64, 67, 0.15);\n",
              "    fill: var(--button-hover-fill-color);\n",
              "  }\n",
              "\n",
              "  .colab-df-quickchart-complete:disabled,\n",
              "  .colab-df-quickchart-complete:disabled:hover {\n",
              "    background-color: var(--disabled-bg-color);\n",
              "    fill: var(--disabled-fill-color);\n",
              "    box-shadow: none;\n",
              "  }\n",
              "\n",
              "  .colab-df-spinner {\n",
              "    border: 2px solid var(--fill-color);\n",
              "    border-color: transparent;\n",
              "    border-bottom-color: var(--fill-color);\n",
              "    animation:\n",
              "      spin 1s steps(1) infinite;\n",
              "  }\n",
              "\n",
              "  @keyframes spin {\n",
              "    0% {\n",
              "      border-color: transparent;\n",
              "      border-bottom-color: var(--fill-color);\n",
              "      border-left-color: var(--fill-color);\n",
              "    }\n",
              "    20% {\n",
              "      border-color: transparent;\n",
              "      border-left-color: var(--fill-color);\n",
              "      border-top-color: var(--fill-color);\n",
              "    }\n",
              "    30% {\n",
              "      border-color: transparent;\n",
              "      border-left-color: var(--fill-color);\n",
              "      border-top-color: var(--fill-color);\n",
              "      border-right-color: var(--fill-color);\n",
              "    }\n",
              "    40% {\n",
              "      border-color: transparent;\n",
              "      border-right-color: var(--fill-color);\n",
              "      border-top-color: var(--fill-color);\n",
              "    }\n",
              "    60% {\n",
              "      border-color: transparent;\n",
              "      border-right-color: var(--fill-color);\n",
              "    }\n",
              "    80% {\n",
              "      border-color: transparent;\n",
              "      border-right-color: var(--fill-color);\n",
              "      border-bottom-color: var(--fill-color);\n",
              "    }\n",
              "    90% {\n",
              "      border-color: transparent;\n",
              "      border-bottom-color: var(--fill-color);\n",
              "    }\n",
              "  }\n",
              "</style>\n",
              "\n",
              "  <script>\n",
              "    async function quickchart(key) {\n",
              "      const quickchartButtonEl =\n",
              "        document.querySelector('#' + key + ' button');\n",
              "      quickchartButtonEl.disabled = true;  // To prevent multiple clicks.\n",
              "      quickchartButtonEl.classList.add('colab-df-spinner');\n",
              "      try {\n",
              "        const charts = await google.colab.kernel.invokeFunction(\n",
              "            'suggestCharts', [key], {});\n",
              "      } catch (error) {\n",
              "        console.error('Error during call to suggestCharts:', error);\n",
              "      }\n",
              "      quickchartButtonEl.classList.remove('colab-df-spinner');\n",
              "      quickchartButtonEl.classList.add('colab-df-quickchart-complete');\n",
              "    }\n",
              "    (() => {\n",
              "      let quickchartButtonEl =\n",
              "        document.querySelector('#df-c17ef6d9-59c2-4502-bb3e-3dcdfd954c81 button');\n",
              "      quickchartButtonEl.style.display =\n",
              "        google.colab.kernel.accessAllowed ? 'block' : 'none';\n",
              "    })();\n",
              "  </script>\n",
              "</div>\n",
              "\n",
              "    </div>\n",
              "  </div>\n"
            ],
            "application/vnd.google.colaboratory.intrinsic+json": {
              "type": "dataframe",
              "variable_name": "datos_amba"
            }
          },
          "metadata": {},
          "execution_count": 6
        }
      ]
    },
    {
      "cell_type": "markdown",
      "source": [
        "#### 3) Utilizando datos amba identifcar"
      ],
      "metadata": {
        "id": "j8tHJC0gqjFg"
      }
    },
    {
      "cell_type": "markdown",
      "source": [
        "##### a) la próporcion de la cantidad total anual de pasajeros que le corresponde a cada medio de transporte"
      ],
      "metadata": {
        "id": "mb09SRqgr0p2"
      }
    },
    {
      "cell_type": "code",
      "source": [
        "proporcion_transporte = datos_amba.groupby('tipo_transporte')['pasajeros'].sum() / datos_amba['pasajeros'].sum()\n",
        "print(proporcion_transporte)"
      ],
      "metadata": {
        "colab": {
          "base_uri": "https://localhost:8080/"
        },
        "id": "4j0mb6K1qgr1",
        "outputId": "b76ed129-acca-4f97-a7d0-57f66e69f2eb"
      },
      "execution_count": 7,
      "outputs": [
        {
          "output_type": "stream",
          "name": "stdout",
          "text": [
            "tipo_transporte\n",
            "COLECTIVO    0.837645\n",
            "SUBTE        0.068097\n",
            "TREN         0.094258\n",
            "Name: pasajeros, dtype: float64\n"
          ]
        }
      ]
    },
    {
      "cell_type": "markdown",
      "source": [
        "##### b) buscamos obtener la tupla (mes, línea de subte) donde viajó la mayor cantidad de pasajeros"
      ],
      "metadata": {
        "id": "iizdMPplrXDD"
      }
    },
    {
      "cell_type": "code",
      "source": [
        "#Creamos un nuevo dataFrame donde sólo estén los datos del tipo de transporte \"SUBTE\" que se encuentran en el AMBA\n",
        "subte_data = datos_amba[datos_amba['tipo_transporte'] == 'SUBTE']\n",
        "\n",
        "#Realizamos las tuplas indicadas y sumamos la cantidad de pasajeros, según el mes y la línea\n",
        "pasajeros_subte_mes = subte_data.groupby(['fecha_mes','linea'])['pasajeros'].sum()\n",
        "#Localizamos la tupla con el valor máximo en cantidad de pasajeros\n",
        "max_pasajeros_subte = pasajeros_subte_mes.idxmax()\n",
        "#Nos quedamos con el valor que posee la mayor cantidad de pasajeros\n",
        "max_value = pasajeros_subte_mes.max()\n",
        "#Imprimimos el mes donde concurrió en el SUBTE la mayor cantidad de pasajeros\n",
        "print(f\"El mes con la mayor cantidad de pasajeros fue: {max_pasajeros_subte[0]}\")\n",
        "#Imprimimos la línea donde concurrió en el SUBTE la mayor cantidad de pasajeros\n",
        "print(f\"La línea de subte que tuvo la mayor cantidad de pasajeros fue : {max_pasajeros_subte[1]}\")\n",
        "#Imprimimos el valor máximo que hubo en cantidad de pasajeros\n",
        "print(max_value)\n",
        "#Imprimimos la tupla corresponidente indicada\n",
        "print(max_pasajeros_subte)"
      ],
      "metadata": {
        "colab": {
          "base_uri": "https://localhost:8080/"
        },
        "id": "nV6AyNTgrgDi",
        "outputId": "61a92c51-d65f-4859-ea49-eca66d2efb8a"
      },
      "execution_count": 8,
      "outputs": [
        {
          "output_type": "stream",
          "name": "stdout",
          "text": [
            "El mes con la mayor cantidad de pasajeros fue: 08\n",
            "La línea de subte que tuvo la mayor cantidad de pasajeros fue : LINEA_B\n",
            "5227906\n",
            "('08', 'LINEA_B')\n"
          ]
        }
      ]
    },
    {
      "cell_type": "markdown",
      "source": [
        "##### c) El día hábil con menor desvío estándar en cantidad de pasajeros\n"
      ],
      "metadata": {
        "id": "28ygnS6htzcP"
      }
    },
    {
      "cell_type": "code",
      "source": [
        "#Realizamos un nuevo DataFrame con los días hábiles a analizar.\n",
        "días_hábiles = datos_amba[datos_amba['fecha_dia'].isin(['Mon', 'Tue', 'Wed', 'Thu', 'Fri'])]\n",
        "#Realizamos un agrupamiento por días y utilizamos la función std para calcular el desvío entandar en cada día.\n",
        "desvio_hábiles = días_hábiles.groupby('fecha_dia')['pasajeros'].std()\n",
        "#Nos quedamos con el valor mínimo.\n",
        "dia_menor_desvio = desvio_hábiles.idxmin()\n",
        "print(f\"EL día hábil que posee el menor desvío estándar es: {dia_menor_desvio}\")"
      ],
      "metadata": {
        "colab": {
          "base_uri": "https://localhost:8080/"
        },
        "id": "roobH0pBt4S8",
        "outputId": "685c156d-eed4-42bf-822b-0e146b8e073e"
      },
      "execution_count": 9,
      "outputs": [
        {
          "output_type": "stream",
          "name": "stdout",
          "text": [
            "EL día hábil que posee el menor desvío estándar es: Mon\n"
          ]
        }
      ]
    },
    {
      "cell_type": "markdown",
      "source": [
        "### **Análisis Exploratorio (Cargar)**"
      ],
      "metadata": {
        "id": "25vCe3UIu7av"
      }
    },
    {
      "cell_type": "markdown",
      "source": [
        "#### Primero vamos a comparar como se distribuyen en Argentina la cantidad de pasajeros durante el año entre las provincias\n"
      ],
      "metadata": {
        "id": "Es3fFVe97B3Y"
      }
    },
    {
      "cell_type": "code",
      "source": [
        "def titulo(amba, tiempo):\n",
        "    title = \"Pasajeros 2023\"\n",
        "    if (amba == \"SI\"):\n",
        "        return f\"{title} en el AMBA por {tiempo}\"\n",
        "    return f\"Resto del país por {tiempo}\"\n",
        "\n",
        "so.Plot(datos_totales, x=\"fecha_mes\", y=\"pasajeros\").add(so.Bars(), so.Agg(\"sum\")).label(x=\"Mes\", y=\"Pasajeros\").facet(\"amba\").label(title=lambda x: titulo(x, \"mes\")).show()\n",
        "so.Plot(datos_totales, x=\"fecha_dia\", y=\"pasajeros\").add(so.Bars(), so.Agg(\"sum\")).label(x=\"Día\", y=\"Pasajeros\").facet(\"amba\").label(title=lambda x: titulo(x, \"día\")).show()\n"
      ],
      "metadata": {
        "colab": {
          "base_uri": "https://localhost:8080/",
          "height": 943
        },
        "id": "PD1Uc9rp7GY9",
        "outputId": "e7995d35-365e-4b6e-cfc1-ad6fdd45d170"
      },
      "execution_count": 249,
      "outputs": [
        {
          "output_type": "display_data",
          "data": {
            "text/plain": [
              "<Figure size 640x480 with 2 Axes>"
            ],
            "image/png": "[encoded data removed]"
          },
          "metadata": {}
        },
        {
          "output_type": "display_data",
          "data": {
            "text/plain": [
              "<Figure size 640x480 with 2 Axes>"
            ],
            "image/png": "[encoded data removed]"
          },
          "metadata": {}
        }
      ]
    },
    {
      "cell_type": "markdown",
      "source": [
        "#### Se ve claramente que en Enero y Febrero hay menos pasajeros, esto es de esperar suponiendo que muchas personas se toman vacaciones sumado al receso escolar y universitario, ademas se observa una disminucion del uso del transporte publico los fines de semana. Más alla de la diferencia de cantidad, se ve la misma tendencia tanto en el amba como en el resto del país.\n"
      ],
      "metadata": {
        "id": "ZLmm8Tra7I3p"
      }
    },
    {
      "cell_type": "markdown",
      "source": [
        "Ahora respondamos cual es la varianza de la cantidad de pasajeros en el AMBA durante el año 2023"
      ],
      "metadata": {
        "id": "Yi5uabJo7Lih"
      }
    },
    {
      "cell_type": "code",
      "source": [
        "varianza_amba = datos_amba['pasajeros'].var()\n",
        "print(f\"La varianza de la cantidad de pasajeros en el AMBA durante el año 2023 es: {round(varianza_amba, 2)}\")\n",
        "# Ahora comparamos con la varianza en el resto de Argentina\n",
        "datos_no_amba = datos[datos[\"AMBA\"] == \"NO\"].dropna()\n",
        "varianza_no_amba = datos_no_amba[\"CANTIDAD\"].var()\n",
        "print(f\"La varianza de la cantidad de pasajeros en el resto de Argentina durante el año 2023 es: {round(varianza_no_amba, 2)}\")\n",
        "\n",
        "print(f\"La varianza del AMBA es {round(varianza_amba/varianza_no_amba, 2)} mayor a la del resto de Argentina\")\n"
      ],
      "metadata": {
        "colab": {
          "base_uri": "https://localhost:8080/"
        },
        "id": "xd-1DNTn7Oq7",
        "outputId": "93291bfd-4d1d-44c2-f803-57d98ecceb9c"
      },
      "execution_count": 243,
      "outputs": [
        {
          "output_type": "stream",
          "name": "stdout",
          "text": [
            "La varianza de la cantidad de pasajeros en el AMBA durante el año 2023 es: 1016641795.39\n",
            "La varianza de la cantidad de pasajeros en el resto de Argentina durante el año 2023 es: 13214597.42\n",
            "La varianza del AMBA es 76.93 mayor a la del resto de Argentina\n"
          ]
        }
      ]
    },
    {
      "cell_type": "markdown",
      "source": [
        "Esto nos da una pista de la distribucion de los datos en el AMBA. Se ve que los datos estan \"Muy alejados entre si\" en relacion al resto del país"
      ],
      "metadata": {
        "id": "FQ62WWxl7Ru1"
      }
    },
    {
      "cell_type": "markdown",
      "source": [
        "#### Ahora vamos a comparar como se distribuyen en el mapa de argentina\n",
        "##### Queremos hacer un mapa de calor del territorio Argentino que muestre:\n",
        " $$\\dfrac{pasajeros}{habitantes \\cdot 365}$$\n",
        "\n",
        "Decidimos usar un mapa, dado a que hacer un histograma con tantos valores en el eje x (provincias) podría ser confuso y aparte nos permite analizar la distribución espacial.\n",
        "\n",
        "##### Para esto seguimos los siguientes pasos:\n",
        "1. Importamos el geoJson de argentina y lo guardamos en un DataFrame\n",
        "1. Guardamos en ese dataframe la cantidad de pasajeros (en sus respectivas provincias)\n",
        "1. Obtenemos los datos de habitantes por provincia ([Fuente](https://censo.gob.ar/index.php/datos_definitivos/))\n",
        "1. En el DataFrame agregamos una nueva columna \"cantidad_proporcional\" haciendo pasajeros/habitantes\n",
        "1. Luego calculamos la \"cantidad_proporcional_diaria\" que representa el dato que buscamos, cuantos pasajeros utilizan el transporte público por día en dicha provincia, pasajeros/(habitantes * 365)\n",
        "1. Finalmente hacemos el mapa de calor!"
      ],
      "metadata": {
        "id": "FVcIZSbD7Xun"
      }
    },
    {
      "cell_type": "code",
      "source": [
        "df = gpd.read_file(\"https://labo-datos-next-psi.vercel.app/api/argentina/map\") # Cargo el Mapa de argentina (devuelve un dataframe con columna nombre y las posiciones en el mapa)\n",
        "\n",
        "def graficar_mapa(tipo_de_transporte):\n",
        "    datos_mapa = datos[(datos[\"PROVINCIA\"] != \"JN\") & (datos[\"TIPO_TRANSPORTE\"] == tipo_de_transporte)] # Saco los de Jurisdiccion nacional ( no son muy signigicativos en el total 5% aprox)\n",
        "    datos_mapa = datos_mapa.groupby(\"PROVINCIA\").sum(\"CANTIDAD\") # Tomo los totales\n",
        "    df[\"nombre\"] = df[\"nombre\"].apply(str.upper) # pasamos a mayuscula los nombres del GEOJSON para poder comparar con las que ya tenemos\n",
        "    df[\"cantidad\"] = [datos_mapa['CANTIDAD'][provincia] if provincia in datos_mapa.index else 0 for provincia in df[\"nombre\"]] # agrego la columna cantidad al geojson\n",
        "\n",
        "    # Ahora le introducimos la poblacion de cada provincia (FUENTE https://censo.gob.ar/index.php/datos_definitivos/)\n",
        "    url_poblacion = \"https://labo-datos-next-psi.vercel.app/api/argentina/poblacion\"\n",
        "    response = requests.get(url_poblacion)\n",
        "    data_poblacion = pd.DataFrame(response.json())\n",
        "\n",
        "    # Sumamos CABA a Buenos Aires\n",
        "    habitantes_caba = data_poblacion[data_poblacion[\"provincia\"] == \"Ciudad Autónoma de Buenos Aires\"][\"habitantes\"]\n",
        "    data_poblacion.iloc[data_poblacion[data_poblacion[\"provincia\"] == \"Buenos Aires\"].index, 1] += habitantes_caba.values[0]\n",
        "    data_poblacion[\"provincia\"] = data_poblacion[\"provincia\"].apply(str.upper) # lo pasamos a mayuscula para poder comparar con el geojson\n",
        "    df[\"habitantes\"] = [data_poblacion[data_poblacion[\"provincia\"] == provincia][\"habitantes\"].values[0] if len(data_poblacion[data_poblacion[\"provincia\"] == provincia][\"habitantes\"]) else 0  for provincia in df[\"nombre\"]] # calculamos la proporcion de pasajeros por habitante\n",
        "    df[\"cantidad_proporcional\"] = df[\"cantidad\"] / df[\"habitantes\"] # calculamos la proporcion de pasajeros por habitante\n",
        "    df[\"cantidad_proporcional_diaria\"] = df[\"cantidad_proporcional\"] / 365 # calculamos la proporcion de pasajeros por dia y habitante\n",
        "\n",
        "    fig, ax = plt.subplots(1, 1, figsize=(10, 10))\n",
        "    ax.get_xaxis().set_visible(False)\n",
        "    ax.get_yaxis().set_visible(False)\n",
        "\n",
        "    df.plot(column='cantidad_proporcional_diaria', cmap='Greens', linewidth=0.8, ax=ax, edgecolor='0.8', legend=True)\n",
        "\n",
        "    def text_format(n):\n",
        "        if (n == 0):\n",
        "            return \"\"\n",
        "\n",
        "        return f\"{round(n, 2) }\"\n",
        "\n",
        "    def color_format(n):\n",
        "        if(n > 0.2):\n",
        "            return '#ffffff'\n",
        "\n",
        "        return '#000000'\n",
        "\n",
        "    for i, row in df.iterrows():\n",
        "        ax.text(\n",
        "            row.geometry.centroid.x,\n",
        "            row.geometry.centroid.y,\n",
        "            text_format(row['cantidad_proporcional_diaria']),\n",
        "            horizontalalignment='center',\n",
        "            color=color_format(row['cantidad_proporcional_diaria'])\n",
        "        )\n",
        "\n",
        "    plt.title(f'Pasajeros de {tipo_de_transporte.lower()} por dia \\n en proporción a la cantidad de habitantes')\n",
        "    plt.show()\n",
        "    display(df[[\"nombre\", \"cantidad\", \"cantidad_proporcional\", \"cantidad_proporcional_diaria\", \"habitantes\"]].set_index(\"nombre\"))\n",
        "\n"
      ],
      "metadata": {
        "id": "nQvCIFF07XJS"
      },
      "execution_count": 278,
      "outputs": []
    },
    {
      "cell_type": "code",
      "source": [
        "graficar_mapa(\"COLECTIVO\")"
      ],
      "metadata": {
        "colab": {
          "base_uri": "https://localhost:8080/",
          "height": 1000
        },
        "id": "03W9HrVn8rV2",
        "outputId": "4435ff1b-0784-4832-cb1f-81802456f283"
      },
      "execution_count": 279,
      "outputs": [
        {
          "output_type": "display_data",
          "data": {
            "text/plain": [
              "<Figure size 1000x1000 with 2 Axes>"
            ],
            "image/png": "[encoded data removed]"
          },
          "metadata": {}
        },
        {
          "output_type": "display_data",
          "data": {
            "text/plain": [
              "                       cantidad  cantidad_proporcional  \\\n",
              "nombre                                                   \n",
              "TUCUMÁN                       0               0.000000   \n",
              "SANTIAGO DEL ESTERO      117939               0.111168   \n",
              "SALTA                         0               0.000000   \n",
              "JUJUY                  68183741              84.010371   \n",
              "FORMOSA                10227663              16.837904   \n",
              "CHACO                  30895035              27.350275   \n",
              "MISIONES                      0               0.000000   \n",
              "CORRIENTES             28895819              23.827752   \n",
              "CATAMARCA              19405862              45.175928   \n",
              "CÓRDOBA                       0               0.000000   \n",
              "SANTA FE              130693902              36.868066   \n",
              "ENTRE RÍOS             34751011              24.376787   \n",
              "BUENOS AIRES         1730129133              83.800931   \n",
              "LA PAMPA                3218221               8.893577   \n",
              "LA RIOJA                      0               0.000000   \n",
              "SAN JUAN               96031987             116.706127   \n",
              "SAN LUIS               16380758              30.218954   \n",
              "MENDOZA               218523548             106.933825   \n",
              "NEUQUÉN                26149637              36.788298   \n",
              "RÍO NEGRO              18316783              24.397394   \n",
              "CHUBUT                 21973807              37.079022   \n",
              "SANTA CRUZ              2122996               6.295470   \n",
              "TIERRA DEL FUEGO        8868719              47.750086   \n",
              "\n",
              "                     cantidad_proporcional_diaria  habitantes  \n",
              "nombre                                                         \n",
              "TUCUMÁN                                  0.000000     1731820  \n",
              "SANTIAGO DEL ESTERO                      0.000305     1060906  \n",
              "SALTA                                    0.000000     1441351  \n",
              "JUJUY                                    0.230165      811611  \n",
              "FORMOSA                                  0.046131      607419  \n",
              "CHACO                                    0.074932     1129606  \n",
              "MISIONES                                 0.000000     1278873  \n",
              "CORRIENTES                               0.065282     1212696  \n",
              "CATAMARCA                                0.123770      429562  \n",
              "CÓRDOBA                                  0.000000     3840905  \n",
              "SANTA FE                                 0.101008     3544908  \n",
              "ENTRE RÍOS                               0.066786     1425578  \n",
              "BUENOS AIRES                             0.229592    20645703  \n",
              "LA PAMPA                                 0.024366      361859  \n",
              "LA RIOJA                                 0.000000      383865  \n",
              "SAN JUAN                                 0.319743      822853  \n",
              "SAN LUIS                                 0.082792      542069  \n",
              "MENDOZA                                  0.292969     2043540  \n",
              "NEUQUÉN                                  0.100790      710814  \n",
              "RÍO NEGRO                                0.066842      750768  \n",
              "CHUBUT                                   0.101586      592621  \n",
              "SANTA CRUZ                               0.017248      337226  \n",
              "TIERRA DEL FUEGO                         0.130822      185732  "
            ],
            "text/html": [
              "\n",
              "  <div id=\"df-eb0de1fe-e7d8-4f9c-8200-378c0c30bc54\" class=\"colab-df-container\">\n",
              "    <div>\n",
              "<style scoped>\n",
              "    .dataframe tbody tr th:only-of-type {\n",
              "        vertical-align: middle;\n",
              "    }\n",
              "\n",
              "    .dataframe tbody tr th {\n",
              "        vertical-align: top;\n",
              "    }\n",
              "\n",
              "    .dataframe thead th {\n",
              "        text-align: right;\n",
              "    }\n",
              "</style>\n",
              "<table border=\"1\" class=\"dataframe\">\n",
              "  <thead>\n",
              "    <tr style=\"text-align: right;\">\n",
              "      <th></th>\n",
              "      <th>cantidad</th>\n",
              "      <th>cantidad_proporcional</th>\n",
              "      <th>cantidad_proporcional_diaria</th>\n",
              "      <th>habitantes</th>\n",
              "    </tr>\n",
              "    <tr>\n",
              "      <th>nombre</th>\n",
              "      <th></th>\n",
              "      <th></th>\n",
              "      <th></th>\n",
              "      <th></th>\n",
              "    </tr>\n",
              "  </thead>\n",
              "  <tbody>\n",
              "    <tr>\n",
              "      <th>TUCUMÁN</th>\n",
              "      <td>0</td>\n",
              "      <td>0.000000</td>\n",
              "      <td>0.000000</td>\n",
              "      <td>1731820</td>\n",
              "    </tr>\n",
              "    <tr>\n",
              "      <th>SANTIAGO DEL ESTERO</th>\n",
              "      <td>117939</td>\n",
              "      <td>0.111168</td>\n",
              "      <td>0.000305</td>\n",
              "      <td>1060906</td>\n",
              "    </tr>\n",
              "    <tr>\n",
              "      <th>SALTA</th>\n",
              "      <td>0</td>\n",
              "      <td>0.000000</td>\n",
              "      <td>0.000000</td>\n",
              "      <td>1441351</td>\n",
              "    </tr>\n",
              "    <tr>\n",
              "      <th>JUJUY</th>\n",
              "      <td>68183741</td>\n",
              "      <td>84.010371</td>\n",
              "      <td>0.230165</td>\n",
              "      <td>811611</td>\n",
              "    </tr>\n",
              "    <tr>\n",
              "      <th>FORMOSA</th>\n",
              "      <td>10227663</td>\n",
              "      <td>16.837904</td>\n",
              "      <td>0.046131</td>\n",
              "      <td>607419</td>\n",
              "    </tr>\n",
              "    <tr>\n",
              "      <th>CHACO</th>\n",
              "      <td>30895035</td>\n",
              "      <td>27.350275</td>\n",
              "      <td>0.074932</td>\n",
              "      <td>1129606</td>\n",
              "    </tr>\n",
              "    <tr>\n",
              "      <th>MISIONES</th>\n",
              "      <td>0</td>\n",
              "      <td>0.000000</td>\n",
              "      <td>0.000000</td>\n",
              "      <td>1278873</td>\n",
              "    </tr>\n",
              "    <tr>\n",
              "      <th>CORRIENTES</th>\n",
              "      <td>28895819</td>\n",
              "      <td>23.827752</td>\n",
              "      <td>0.065282</td>\n",
              "      <td>1212696</td>\n",
              "    </tr>\n",
              "    <tr>\n",
              "      <th>CATAMARCA</th>\n",
              "      <td>19405862</td>\n",
              "      <td>45.175928</td>\n",
              "      <td>0.123770</td>\n",
              "      <td>429562</td>\n",
              "    </tr>\n",
              "    <tr>\n",
              "      <th>CÓRDOBA</th>\n",
              "      <td>0</td>\n",
              "      <td>0.000000</td>\n",
              "      <td>0.000000</td>\n",
              "      <td>3840905</td>\n",
              "    </tr>\n",
              "    <tr>\n",
              "      <th>SANTA FE</th>\n",
              "      <td>130693902</td>\n",
              "      <td>36.868066</td>\n",
              "      <td>0.101008</td>\n",
              "      <td>3544908</td>\n",
              "    </tr>\n",
              "    <tr>\n",
              "      <th>ENTRE RÍOS</th>\n",
              "      <td>34751011</td>\n",
              "      <td>24.376787</td>\n",
              "      <td>0.066786</td>\n",
              "      <td>1425578</td>\n",
              "    </tr>\n",
              "    <tr>\n",
              "      <th>BUENOS AIRES</th>\n",
              "      <td>1730129133</td>\n",
              "      <td>83.800931</td>\n",
              "      <td>0.229592</td>\n",
              "      <td>20645703</td>\n",
              "    </tr>\n",
              "    <tr>\n",
              "      <th>LA PAMPA</th>\n",
              "      <td>3218221</td>\n",
              "      <td>8.893577</td>\n",
              "      <td>0.024366</td>\n",
              "      <td>361859</td>\n",
              "    </tr>\n",
              "    <tr>\n",
              "      <th>LA RIOJA</th>\n",
              "      <td>0</td>\n",
              "      <td>0.000000</td>\n",
              "      <td>0.000000</td>\n",
              "      <td>383865</td>\n",
              "    </tr>\n",
              "    <tr>\n",
              "      <th>SAN JUAN</th>\n",
              "      <td>96031987</td>\n",
              "      <td>116.706127</td>\n",
              "      <td>0.319743</td>\n",
              "      <td>822853</td>\n",
              "    </tr>\n",
              "    <tr>\n",
              "      <th>SAN LUIS</th>\n",
              "      <td>16380758</td>\n",
              "      <td>30.218954</td>\n",
              "      <td>0.082792</td>\n",
              "      <td>542069</td>\n",
              "    </tr>\n",
              "    <tr>\n",
              "      <th>MENDOZA</th>\n",
              "      <td>218523548</td>\n",
              "      <td>106.933825</td>\n",
              "      <td>0.292969</td>\n",
              "      <td>2043540</td>\n",
              "    </tr>\n",
              "    <tr>\n",
              "      <th>NEUQUÉN</th>\n",
              "      <td>26149637</td>\n",
              "      <td>36.788298</td>\n",
              "      <td>0.100790</td>\n",
              "      <td>710814</td>\n",
              "    </tr>\n",
              "    <tr>\n",
              "      <th>RÍO NEGRO</th>\n",
              "      <td>18316783</td>\n",
              "      <td>24.397394</td>\n",
              "      <td>0.066842</td>\n",
              "      <td>750768</td>\n",
              "    </tr>\n",
              "    <tr>\n",
              "      <th>CHUBUT</th>\n",
              "      <td>21973807</td>\n",
              "      <td>37.079022</td>\n",
              "      <td>0.101586</td>\n",
              "      <td>592621</td>\n",
              "    </tr>\n",
              "    <tr>\n",
              "      <th>SANTA CRUZ</th>\n",
              "      <td>2122996</td>\n",
              "      <td>6.295470</td>\n",
              "      <td>0.017248</td>\n",
              "      <td>337226</td>\n",
              "    </tr>\n",
              "    <tr>\n",
              "      <th>TIERRA DEL FUEGO</th>\n",
              "      <td>8868719</td>\n",
              "      <td>47.750086</td>\n",
              "      <td>0.130822</td>\n",
              "      <td>185732</td>\n",
              "    </tr>\n",
              "  </tbody>\n",
              "</table>\n",
              "</div>\n",
              "    <div class=\"colab-df-buttons\">\n",
              "\n",
              "  <div class=\"colab-df-container\">\n",
              "    <button class=\"colab-df-convert\" onclick=\"convertToInteractive('df-eb0de1fe-e7d8-4f9c-8200-378c0c30bc54')\"\n",
              "            title=\"Convert this dataframe to an interactive table.\"\n",
              "            style=\"display:none;\">\n",
              "\n",
              "  <svg xmlns=\"http://www.w3.org/2000/svg\" height=\"24px\" viewBox=\"0 -960 960 960\">\n",
              "    <path d=\"M120-120v-720h720v720H120Zm60-500h600v-160H180v160Zm220 220h160v-160H400v160Zm0 220h160v-160H400v160ZM180-400h160v-160H180v160Zm440 0h160v-160H620v160ZM180-180h160v-160H180v160Zm440 0h160v-160H620v160Z\"/>\n",
              "  </svg>\n",
              "    </button>\n",
              "\n",
              "  <style>\n",
              "    .colab-df-container {\n",
              "      display:flex;\n",
              "      gap: 12px;\n",
              "    }\n",
              "\n",
              "    .colab-df-convert {\n",
              "      background-color: #E8F0FE;\n",
              "      border: none;\n",
              "      border-radius: 50%;\n",
              "      cursor: pointer;\n",
              "      display: none;\n",
              "      fill: #1967D2;\n",
              "      height: 32px;\n",
              "      padding: 0 0 0 0;\n",
              "      width: 32px;\n",
              "    }\n",
              "\n",
              "    .colab-df-convert:hover {\n",
              "      background-color: #E2EBFA;\n",
              "      box-shadow: 0px 1px 2px rgba(60, 64, 67, 0.3), 0px 1px 3px 1px rgba(60, 64, 67, 0.15);\n",
              "      fill: #174EA6;\n",
              "    }\n",
              "\n",
              "    .colab-df-buttons div {\n",
              "      margin-bottom: 4px;\n",
              "    }\n",
              "\n",
              "    [theme=dark] .colab-df-convert {\n",
              "      background-color: #3B4455;\n",
              "      fill: #D2E3FC;\n",
              "    }\n",
              "\n",
              "    [theme=dark] .colab-df-convert:hover {\n",
              "      background-color: #434B5C;\n",
              "      box-shadow: 0px 1px 3px 1px rgba(0, 0, 0, 0.15);\n",
              "      filter: drop-shadow(0px 1px 2px rgba(0, 0, 0, 0.3));\n",
              "      fill: #FFFFFF;\n",
              "    }\n",
              "  </style>\n",
              "\n",
              "    <script>\n",
              "      const buttonEl =\n",
              "        document.querySelector('#df-eb0de1fe-e7d8-4f9c-8200-378c0c30bc54 button.colab-df-convert');\n",
              "      buttonEl.style.display =\n",
              "        google.colab.kernel.accessAllowed ? 'block' : 'none';\n",
              "\n",
              "      async function convertToInteractive(key) {\n",
              "        const element = document.querySelector('#df-eb0de1fe-e7d8-4f9c-8200-378c0c30bc54');\n",
              "        const dataTable =\n",
              "          await google.colab.kernel.invokeFunction('convertToInteractive',\n",
              "                                                    [key], {});\n",
              "        if (!dataTable) return;\n",
              "\n",
              "        const docLinkHtml = 'Like what you see? Visit the ' +\n",
              "          '<a target=\"_blank\" href=https://colab.research.google.com/notebooks/data_table.ipynb>data table notebook</a>'\n",
              "          + ' to learn more about interactive tables.';\n",
              "        element.innerHTML = '';\n",
              "        dataTable['output_type'] = 'display_data';\n",
              "        await google.colab.output.renderOutput(dataTable, element);\n",
              "        const docLink = document.createElement('div');\n",
              "        docLink.innerHTML = docLinkHtml;\n",
              "        element.appendChild(docLink);\n",
              "      }\n",
              "    </script>\n",
              "  </div>\n",
              "\n",
              "\n",
              "<div id=\"df-ae4123f4-02ba-483a-8017-2f0d27f86f16\">\n",
              "  <button class=\"colab-df-quickchart\" onclick=\"quickchart('df-ae4123f4-02ba-483a-8017-2f0d27f86f16')\"\n",
              "            title=\"Suggest charts\"\n",
              "            style=\"display:none;\">\n",
              "\n",
              "<svg xmlns=\"http://www.w3.org/2000/svg\" height=\"24px\"viewBox=\"0 0 24 24\"\n",
              "     width=\"24px\">\n",
              "    <g>\n",
              "        <path d=\"M19 3H5c-1.1 0-2 .9-2 2v14c0 1.1.9 2 2 2h14c1.1 0 2-.9 2-2V5c0-1.1-.9-2-2-2zM9 17H7v-7h2v7zm4 0h-2V7h2v10zm4 0h-2v-4h2v4z\"/>\n",
              "    </g>\n",
              "</svg>\n",
              "  </button>\n",
              "\n",
              "<style>\n",
              "  .colab-df-quickchart {\n",
              "      --bg-color: #E8F0FE;\n",
              "      --fill-color: #1967D2;\n",
              "      --hover-bg-color: #E2EBFA;\n",
              "      --hover-fill-color: #174EA6;\n",
              "      --disabled-fill-color: #AAA;\n",
              "      --disabled-bg-color: #DDD;\n",
              "  }\n",
              "\n",
              "  [theme=dark] .colab-df-quickchart {\n",
              "      --bg-color: #3B4455;\n",
              "      --fill-color: #D2E3FC;\n",
              "      --hover-bg-color: #434B5C;\n",
              "      --hover-fill-color: #FFFFFF;\n",
              "      --disabled-bg-color: #3B4455;\n",
              "      --disabled-fill-color: #666;\n",
              "  }\n",
              "\n",
              "  .colab-df-quickchart {\n",
              "    background-color: var(--bg-color);\n",
              "    border: none;\n",
              "    border-radius: 50%;\n",
              "    cursor: pointer;\n",
              "    display: none;\n",
              "    fill: var(--fill-color);\n",
              "    height: 32px;\n",
              "    padding: 0;\n",
              "    width: 32px;\n",
              "  }\n",
              "\n",
              "  .colab-df-quickchart:hover {\n",
              "    background-color: var(--hover-bg-color);\n",
              "    box-shadow: 0 1px 2px rgba(60, 64, 67, 0.3), 0 1px 3px 1px rgba(60, 64, 67, 0.15);\n",
              "    fill: var(--button-hover-fill-color);\n",
              "  }\n",
              "\n",
              "  .colab-df-quickchart-complete:disabled,\n",
              "  .colab-df-quickchart-complete:disabled:hover {\n",
              "    background-color: var(--disabled-bg-color);\n",
              "    fill: var(--disabled-fill-color);\n",
              "    box-shadow: none;\n",
              "  }\n",
              "\n",
              "  .colab-df-spinner {\n",
              "    border: 2px solid var(--fill-color);\n",
              "    border-color: transparent;\n",
              "    border-bottom-color: var(--fill-color);\n",
              "    animation:\n",
              "      spin 1s steps(1) infinite;\n",
              "  }\n",
              "\n",
              "  @keyframes spin {\n",
              "    0% {\n",
              "      border-color: transparent;\n",
              "      border-bottom-color: var(--fill-color);\n",
              "      border-left-color: var(--fill-color);\n",
              "    }\n",
              "    20% {\n",
              "      border-color: transparent;\n",
              "      border-left-color: var(--fill-color);\n",
              "      border-top-color: var(--fill-color);\n",
              "    }\n",
              "    30% {\n",
              "      border-color: transparent;\n",
              "      border-left-color: var(--fill-color);\n",
              "      border-top-color: var(--fill-color);\n",
              "      border-right-color: var(--fill-color);\n",
              "    }\n",
              "    40% {\n",
              "      border-color: transparent;\n",
              "      border-right-color: var(--fill-color);\n",
              "      border-top-color: var(--fill-color);\n",
              "    }\n",
              "    60% {\n",
              "      border-color: transparent;\n",
              "      border-right-color: var(--fill-color);\n",
              "    }\n",
              "    80% {\n",
              "      border-color: transparent;\n",
              "      border-right-color: var(--fill-color);\n",
              "      border-bottom-color: var(--fill-color);\n",
              "    }\n",
              "    90% {\n",
              "      border-color: transparent;\n",
              "      border-bottom-color: var(--fill-color);\n",
              "    }\n",
              "  }\n",
              "</style>\n",
              "\n",
              "  <script>\n",
              "    async function quickchart(key) {\n",
              "      const quickchartButtonEl =\n",
              "        document.querySelector('#' + key + ' button');\n",
              "      quickchartButtonEl.disabled = true;  // To prevent multiple clicks.\n",
              "      quickchartButtonEl.classList.add('colab-df-spinner');\n",
              "      try {\n",
              "        const charts = await google.colab.kernel.invokeFunction(\n",
              "            'suggestCharts', [key], {});\n",
              "      } catch (error) {\n",
              "        console.error('Error during call to suggestCharts:', error);\n",
              "      }\n",
              "      quickchartButtonEl.classList.remove('colab-df-spinner');\n",
              "      quickchartButtonEl.classList.add('colab-df-quickchart-complete');\n",
              "    }\n",
              "    (() => {\n",
              "      let quickchartButtonEl =\n",
              "        document.querySelector('#df-ae4123f4-02ba-483a-8017-2f0d27f86f16 button');\n",
              "      quickchartButtonEl.style.display =\n",
              "        google.colab.kernel.accessAllowed ? 'block' : 'none';\n",
              "    })();\n",
              "  </script>\n",
              "</div>\n",
              "\n",
              "    </div>\n",
              "  </div>\n"
            ],
            "application/vnd.google.colaboratory.intrinsic+json": {
              "type": "dataframe",
              "summary": "{\n  \"name\": \"graficar_mapa(\\\"COLECTIVO\\\")\",\n  \"rows\": 23,\n  \"fields\": [\n    {\n      \"column\": \"nombre\",\n      \"properties\": {\n        \"dtype\": \"string\",\n        \"num_unique_values\": 23,\n        \"samples\": [\n          \"SAN JUAN\",\n          \"C\\u00d3RDOBA\",\n          \"TUCUM\\u00c1N\"\n        ],\n        \"semantic_type\": \"\",\n        \"description\": \"\"\n      }\n    },\n    {\n      \"column\": \"cantidad\",\n      \"properties\": {\n        \"dtype\": \"number\",\n        \"std\": 357595146,\n        \"min\": 0,\n        \"max\": 1730129133,\n        \"num_unique_values\": 19,\n        \"samples\": [\n          0,\n          28895819,\n          96031987\n        ],\n        \"semantic_type\": \"\",\n        \"description\": \"\"\n      }\n    },\n    {\n      \"column\": \"cantidad_proporcional\",\n      \"properties\": {\n        \"dtype\": \"number\",\n        \"std\": 34.655229681989894,\n        \"min\": 0.0,\n        \"max\": 116.70612733987723,\n        \"num_unique_values\": 19,\n        \"samples\": [\n          0.0,\n          23.82775155521252,\n          116.70612733987723\n        ],\n        \"semantic_type\": \"\",\n        \"description\": \"\"\n      }\n    },\n    {\n      \"column\": \"cantidad_proporcional_diaria\",\n      \"properties\": {\n        \"dtype\": \"number\",\n        \"std\": 0.09494583474517782,\n        \"min\": 0.0,\n        \"max\": 0.31974281462980064,\n        \"num_unique_values\": 19,\n        \"samples\": [\n          0.0,\n          0.06528151111017129,\n          0.31974281462980064\n        ],\n        \"semantic_type\": \"\",\n        \"description\": \"\"\n      }\n    },\n    {\n      \"column\": \"habitantes\",\n      \"properties\": {\n        \"dtype\": \"number\",\n        \"std\": 4171422,\n        \"min\": 185732,\n        \"max\": 20645703,\n        \"num_unique_values\": 23,\n        \"samples\": [\n          822853,\n          3840905,\n          1731820\n        ],\n        \"semantic_type\": \"\",\n        \"description\": \"\"\n      }\n    }\n  ]\n}"
            }
          },
          "metadata": {}
        }
      ]
    },
    {
      "cell_type": "markdown",
      "source": [
        "Una aclaración importante, Además de que falten las Malvinas, tomamos los habitantes de Buenos Aires como CABA + Buenos Aires. Pero el dataframe de sube-2023 no tiene provincia CABA por lo que puede afectar los resultados.\n",
        "\n",
        "Otra aclaracion es que muchas provincias no tienen datos por que tienen lineas de Jurisdicción Nacional, por lo tanto no tienen provincia asignada.\n",
        "\n",
        "Ahora sí, notemos que BS.AS, más alla tener por muchísimo mas pasajeros durante el año, tiene menos pasajeros diaros en proporcion a sus habitantes. Hay que remarcar que estos datos son de colectivo, dado a que **quizas** en CABA al utilizarse mucho los subtes este numero baja bastante **Más adelante lo veremos**.\n",
        "\n",
        "No fue posible graficar srenes dado a que eran de jurisdicción nacional, lo mismo nos pasó con los subtes.\n",
        "\n"
      ],
      "metadata": {
        "id": "ITv6_hZrBaUv"
      }
    },
    {
      "cell_type": "markdown",
      "source": [
        "\n",
        "##### ¿Cuál es el medio más utilizado y su proporción? ¿A qué se debe? ¿Será que posee mas lineas/empresas que el resto?"
      ],
      "metadata": {
        "id": "KaCPB-xIBe5m"
      }
    },
    {
      "cell_type": "code",
      "source": [
        "# Calculamos la proporción de pasajeros por cada tipo de transporte\n",
        "proporcion_transporte = datos_amba.groupby('tipo_transporte')['pasajeros'].sum().reset_index()\n",
        "proporcion_transporte['proporcion'] = proporcion_transporte['pasajeros'] / datos_amba['pasajeros'].sum()\n",
        "\n",
        "# Calcular la proporción de líneas que abarcan cada tipo de transporte\n",
        "lineas_por_transporte_amba = datos_amba.groupby('tipo_transporte')['linea'].nunique().reset_index()\n",
        "lineas_por_transporte_amba.columns = ['tipo_transporte', 'cantidad']\n",
        "\n",
        "total_lineas_amba = lineas_por_transporte_amba['cantidad'].sum()\n",
        "lineas_por_transporte_amba['proporcion'] = lineas_por_transporte_amba['cantidad'] / total_lineas_amba\n",
        "\n",
        "\n",
        "fig, axs = plt.subplots(1, 2, figsize=(15, 8))\n",
        "\n",
        "# Gráfico de torta para la proporción de pasajeros\n",
        "axs[0].pie(proporcion_transporte['proporcion'], labels=proporcion_transporte['tipo_transporte'], autopct='%1.1f%%', startangle=90)\n",
        "axs[0].set_title('Proporción de pasajeros por medio de transporte en AMBA (2023)', fontsize=14)\n",
        "axs[0].axis('equal')\n",
        "\n",
        "# Gráfico de torta para la proporción de líneas\n",
        "axs[1].pie(lineas_por_transporte_amba['proporcion'], labels=lineas_por_transporte_amba['tipo_transporte'], autopct='%1.1f%%', startangle=90)\n",
        "axs[1].set_title('Proporción de líneas que abarca cada medio de transporte en AMBA (2023)', fontsize=14)\n",
        "axs[1].axis('equal')\n",
        "\n",
        "\n",
        "plt.tight_layout()\n",
        "plt.show()"
      ],
      "metadata": {
        "colab": {
          "base_uri": "https://localhost:8080/",
          "height": 807
        },
        "id": "Vvlyl1hnBl76",
        "outputId": "62548721-efe8-4bde-e005-a44ab073008f"
      },
      "execution_count": 284,
      "outputs": [
        {
          "output_type": "display_data",
          "data": {
            "text/plain": [
              "<Figure size 1500x800 with 2 Axes>"
            ],
            "image/png": "[encoded data removed]"
          },
          "metadata": {}
        }
      ]
    },
    {
      "cell_type": "markdown",
      "source": [
        "Parecería indicar que el colectivo es el transporte que mayor movilidad de personas posee en función de la cantidad de líneas que abarca y ofrece en sus servicios. Ahora bien, nos preguntamos lo siguiente:\n",
        ""
      ],
      "metadata": {
        "id": "1moDFoydByC7"
      }
    },
    {
      "cell_type": "markdown",
      "source": [
        "#### ¿Cuál es la movilidad de personas que posee cada tipo de transporte en función de las líneas/servicios que posee?"
      ],
      "metadata": {
        "id": "aUHZbFmyCwJe"
      }
    },
    {
      "cell_type": "code",
      "source": [
        "# Calculamos el promedio de pasajeros en función de la cantidad de líneas que tiene cada tipo de transporte\n",
        "pasajeros_por_linea = proporcion_transporte.merge(lineas_por_transporte_amba, on='tipo_transporte')\n",
        "pasajeros_por_linea['pasajeros_por_linea'] = pasajeros_por_linea['pasajeros'] / pasajeros_por_linea['cantidad']\n",
        "\n",
        "plt.figure(figsize=(8, 5))\n",
        "grafico = sns.barplot(data=pasajeros_por_linea,x=\"tipo_transporte\",y=\"pasajeros_por_linea\",hue=\"tipo_transporte\",)\n",
        "plt.title(\"Promedio de pasajeros en función de la cantidad de líneas que posee \\n cada tipo de transporte en AMBA (2023)\")\n",
        "plt.xlabel(\"Tipo de Transporte\")\n",
        "plt.ylabel(\"Promedio de pasajeros por línea\")\n",
        "plt.show()"
      ],
      "metadata": {
        "colab": {
          "base_uri": "https://localhost:8080/",
          "height": 524
        },
        "id": "szA498LwB1w7",
        "outputId": "2578b7e5-c95f-4cdd-d34e-8ae26fee4408"
      },
      "execution_count": 285,
      "outputs": [
        {
          "output_type": "display_data",
          "data": {
            "text/plain": [
              "<Figure size 800x500 with 1 Axes>"
            ],
            "image/png": "[encoded data removed]"
          },
          "metadata": {}
        }
      ]
    },
    {
      "cell_type": "markdown",
      "source": [
        "Es decir, podemos ver que el SUBTE en líneas generales es el que menor movilidad de personas posee en el año, pero a nivel de cantidad de líneas/servicios que ofrece es el que mayor cantidad de personas abarca en promedio. Esto puede deberse a una mayor eficiencia en términos de distancias recorridas/tiempos/costos"
      ],
      "metadata": {
        "id": "wrOucYR0Cami"
      }
    },
    {
      "cell_type": "markdown",
      "source": [
        "#### ¿Cúales son las empresas que poseen la mayor cantidad de pasajeros a nivel colectivos?"
      ],
      "metadata": {
        "id": "vT0uW5mrCfdC"
      }
    },
    {
      "cell_type": "code",
      "source": [
        "resultados_por_empresa = datos_totales.copy()\n",
        "resultados_por_empresa = resultados_por_empresa[(resultados_por_empresa['amba'] == 'SI') & (resultados_por_empresa['dato_preliminar'] == \"NO\") & (resultados_por_empresa['tipo_transporte'] == \"COLECTIVO\")]\n",
        "resultados_por_empresa = resultados_por_empresa.groupby('nombre_empresa').agg(\n",
        "    total_de_pasajeros=('pasajeros', 'sum'),\n",
        "    cantidad_de_líneas=('linea', 'nunique'),\n",
        "    lineas=('linea', lambda x: list(set(x))),\n",
        "    cantidad_de_municipios=('municipio', 'nunique'),\n",
        "    municipios=('municipio', lambda x: list(set(x)))\n",
        ").reset_index()\n",
        "\n",
        "\n",
        "# Ordenamos a nuestro DataFrame según la cantidad total de pasajeros\n",
        "resultados_por_empresa = resultados_por_empresa.sort_values(by='total_de_pasajeros', ascending=False)\n",
        "\n",
        "# Realizamos un DataFrame en el cuál nos muestres las top 5 empresas\n",
        "top_5_empresas = resultados_por_empresa.head(5)\n",
        "top_5_empresas\n"
      ],
      "metadata": {
        "id": "Pt-vmBdKu9k6",
        "colab": {
          "base_uri": "https://localhost:8080/",
          "height": 206
        },
        "outputId": "90226b2d-d9e6-4557-bb1f-65e1c5e5dccd"
      },
      "execution_count": 298,
      "outputs": [
        {
          "output_type": "execute_result",
          "data": {
            "text/plain": [
              "                     nombre_empresa  total_de_pasajeros  cantidad_de_líneas  \\\n",
              "132    TRANSPORTES LA PERLITA S.A.             91144040                   7   \n",
              "40         EMPRESA LINEA 216 S.A.T.            85937290                   9   \n",
              "63                   LA CABAÑA S.A.            66374356                   7   \n",
              "60   GENERAL TOMAS GUIDO S.A.C.I.F.            62128231                   9   \n",
              "66           LA NUEVA METROPOL S.A.            54419476                   5   \n",
              "\n",
              "                                                lineas  \\\n",
              "132  [BSAS_LINEA_329, BSAS_LINEA_312, BSAS_LINEA_50...   \n",
              "40   [BSAS_LINEA_166, BSAS_LINEA_504A, BSAS_LINEA_6...   \n",
              "63   [BSAS_LINEA_242, BSAS_LINEA_624, BSAS_LINEA_31...   \n",
              "60   [BSAS_LINEA_299, BSAS_LINEA_271, BSAS_LINEA_37...   \n",
              "66   [BSAS_LINEA_195, BSAS_LINEA_065, BSAS_LINEA_22...   \n",
              "\n",
              "     cantidad_de_municipios                         municipios  \n",
              "132                       3    [SN, MORENO, GENERAL RODRIGUEZ]  \n",
              "40                        5  [SD, MORON, SN, ITUZAINGO, MERLO]  \n",
              "63                        4        [SD, SN, MORON, LA MATANZA]  \n",
              "60                        3               [AVELLANEDA, SD, SN]  \n",
              "66                        2                           [SD, SN]  "
            ],
            "text/html": [
              "\n",
              "  <div id=\"df-29d6ea03-2147-4493-ab79-1f4feaa437be\" class=\"colab-df-container\">\n",
              "    <div>\n",
              "<style scoped>\n",
              "    .dataframe tbody tr th:only-of-type {\n",
              "        vertical-align: middle;\n",
              "    }\n",
              "\n",
              "    .dataframe tbody tr th {\n",
              "        vertical-align: top;\n",
              "    }\n",
              "\n",
              "    .dataframe thead th {\n",
              "        text-align: right;\n",
              "    }\n",
              "</style>\n",
              "<table border=\"1\" class=\"dataframe\">\n",
              "  <thead>\n",
              "    <tr style=\"text-align: right;\">\n",
              "      <th></th>\n",
              "      <th>nombre_empresa</th>\n",
              "      <th>total_de_pasajeros</th>\n",
              "      <th>cantidad_de_líneas</th>\n",
              "      <th>lineas</th>\n",
              "      <th>cantidad_de_municipios</th>\n",
              "      <th>municipios</th>\n",
              "    </tr>\n",
              "  </thead>\n",
              "  <tbody>\n",
              "    <tr>\n",
              "      <th>132</th>\n",
              "      <td>TRANSPORTES LA PERLITA S.A.</td>\n",
              "      <td>91144040</td>\n",
              "      <td>7</td>\n",
              "      <td>[BSAS_LINEA_329, BSAS_LINEA_312, BSAS_LINEA_50...</td>\n",
              "      <td>3</td>\n",
              "      <td>[SN, MORENO, GENERAL RODRIGUEZ]</td>\n",
              "    </tr>\n",
              "    <tr>\n",
              "      <th>40</th>\n",
              "      <td>EMPRESA LINEA 216 S.A.T.</td>\n",
              "      <td>85937290</td>\n",
              "      <td>9</td>\n",
              "      <td>[BSAS_LINEA_166, BSAS_LINEA_504A, BSAS_LINEA_6...</td>\n",
              "      <td>5</td>\n",
              "      <td>[SD, MORON, SN, ITUZAINGO, MERLO]</td>\n",
              "    </tr>\n",
              "    <tr>\n",
              "      <th>63</th>\n",
              "      <td>LA CABAÑA S.A.</td>\n",
              "      <td>66374356</td>\n",
              "      <td>7</td>\n",
              "      <td>[BSAS_LINEA_242, BSAS_LINEA_624, BSAS_LINEA_31...</td>\n",
              "      <td>4</td>\n",
              "      <td>[SD, SN, MORON, LA MATANZA]</td>\n",
              "    </tr>\n",
              "    <tr>\n",
              "      <th>60</th>\n",
              "      <td>GENERAL TOMAS GUIDO S.A.C.I.F.</td>\n",
              "      <td>62128231</td>\n",
              "      <td>9</td>\n",
              "      <td>[BSAS_LINEA_299, BSAS_LINEA_271, BSAS_LINEA_37...</td>\n",
              "      <td>3</td>\n",
              "      <td>[AVELLANEDA, SD, SN]</td>\n",
              "    </tr>\n",
              "    <tr>\n",
              "      <th>66</th>\n",
              "      <td>LA NUEVA METROPOL S.A.</td>\n",
              "      <td>54419476</td>\n",
              "      <td>5</td>\n",
              "      <td>[BSAS_LINEA_195, BSAS_LINEA_065, BSAS_LINEA_22...</td>\n",
              "      <td>2</td>\n",
              "      <td>[SD, SN]</td>\n",
              "    </tr>\n",
              "  </tbody>\n",
              "</table>\n",
              "</div>\n",
              "    <div class=\"colab-df-buttons\">\n",
              "\n",
              "  <div class=\"colab-df-container\">\n",
              "    <button class=\"colab-df-convert\" onclick=\"convertToInteractive('df-29d6ea03-2147-4493-ab79-1f4feaa437be')\"\n",
              "            title=\"Convert this dataframe to an interactive table.\"\n",
              "            style=\"display:none;\">\n",
              "\n",
              "  <svg xmlns=\"http://www.w3.org/2000/svg\" height=\"24px\" viewBox=\"0 -960 960 960\">\n",
              "    <path d=\"M120-120v-720h720v720H120Zm60-500h600v-160H180v160Zm220 220h160v-160H400v160Zm0 220h160v-160H400v160ZM180-400h160v-160H180v160Zm440 0h160v-160H620v160ZM180-180h160v-160H180v160Zm440 0h160v-160H620v160Z\"/>\n",
              "  </svg>\n",
              "    </button>\n",
              "\n",
              "  <style>\n",
              "    .colab-df-container {\n",
              "      display:flex;\n",
              "      gap: 12px;\n",
              "    }\n",
              "\n",
              "    .colab-df-convert {\n",
              "      background-color: #E8F0FE;\n",
              "      border: none;\n",
              "      border-radius: 50%;\n",
              "      cursor: pointer;\n",
              "      display: none;\n",
              "      fill: #1967D2;\n",
              "      height: 32px;\n",
              "      padding: 0 0 0 0;\n",
              "      width: 32px;\n",
              "    }\n",
              "\n",
              "    .colab-df-convert:hover {\n",
              "      background-color: #E2EBFA;\n",
              "      box-shadow: 0px 1px 2px rgba(60, 64, 67, 0.3), 0px 1px 3px 1px rgba(60, 64, 67, 0.15);\n",
              "      fill: #174EA6;\n",
              "    }\n",
              "\n",
              "    .colab-df-buttons div {\n",
              "      margin-bottom: 4px;\n",
              "    }\n",
              "\n",
              "    [theme=dark] .colab-df-convert {\n",
              "      background-color: #3B4455;\n",
              "      fill: #D2E3FC;\n",
              "    }\n",
              "\n",
              "    [theme=dark] .colab-df-convert:hover {\n",
              "      background-color: #434B5C;\n",
              "      box-shadow: 0px 1px 3px 1px rgba(0, 0, 0, 0.15);\n",
              "      filter: drop-shadow(0px 1px 2px rgba(0, 0, 0, 0.3));\n",
              "      fill: #FFFFFF;\n",
              "    }\n",
              "  </style>\n",
              "\n",
              "    <script>\n",
              "      const buttonEl =\n",
              "        document.querySelector('#df-29d6ea03-2147-4493-ab79-1f4feaa437be button.colab-df-convert');\n",
              "      buttonEl.style.display =\n",
              "        google.colab.kernel.accessAllowed ? 'block' : 'none';\n",
              "\n",
              "      async function convertToInteractive(key) {\n",
              "        const element = document.querySelector('#df-29d6ea03-2147-4493-ab79-1f4feaa437be');\n",
              "        const dataTable =\n",
              "          await google.colab.kernel.invokeFunction('convertToInteractive',\n",
              "                                                    [key], {});\n",
              "        if (!dataTable) return;\n",
              "\n",
              "        const docLinkHtml = 'Like what you see? Visit the ' +\n",
              "          '<a target=\"_blank\" href=https://colab.research.google.com/notebooks/data_table.ipynb>data table notebook</a>'\n",
              "          + ' to learn more about interactive tables.';\n",
              "        element.innerHTML = '';\n",
              "        dataTable['output_type'] = 'display_data';\n",
              "        await google.colab.output.renderOutput(dataTable, element);\n",
              "        const docLink = document.createElement('div');\n",
              "        docLink.innerHTML = docLinkHtml;\n",
              "        element.appendChild(docLink);\n",
              "      }\n",
              "    </script>\n",
              "  </div>\n",
              "\n",
              "\n",
              "<div id=\"df-3623c881-0b2b-4f1d-931a-823c9db089ca\">\n",
              "  <button class=\"colab-df-quickchart\" onclick=\"quickchart('df-3623c881-0b2b-4f1d-931a-823c9db089ca')\"\n",
              "            title=\"Suggest charts\"\n",
              "            style=\"display:none;\">\n",
              "\n",
              "<svg xmlns=\"http://www.w3.org/2000/svg\" height=\"24px\"viewBox=\"0 0 24 24\"\n",
              "     width=\"24px\">\n",
              "    <g>\n",
              "        <path d=\"M19 3H5c-1.1 0-2 .9-2 2v14c0 1.1.9 2 2 2h14c1.1 0 2-.9 2-2V5c0-1.1-.9-2-2-2zM9 17H7v-7h2v7zm4 0h-2V7h2v10zm4 0h-2v-4h2v4z\"/>\n",
              "    </g>\n",
              "</svg>\n",
              "  </button>\n",
              "\n",
              "<style>\n",
              "  .colab-df-quickchart {\n",
              "      --bg-color: #E8F0FE;\n",
              "      --fill-color: #1967D2;\n",
              "      --hover-bg-color: #E2EBFA;\n",
              "      --hover-fill-color: #174EA6;\n",
              "      --disabled-fill-color: #AAA;\n",
              "      --disabled-bg-color: #DDD;\n",
              "  }\n",
              "\n",
              "  [theme=dark] .colab-df-quickchart {\n",
              "      --bg-color: #3B4455;\n",
              "      --fill-color: #D2E3FC;\n",
              "      --hover-bg-color: #434B5C;\n",
              "      --hover-fill-color: #FFFFFF;\n",
              "      --disabled-bg-color: #3B4455;\n",
              "      --disabled-fill-color: #666;\n",
              "  }\n",
              "\n",
              "  .colab-df-quickchart {\n",
              "    background-color: var(--bg-color);\n",
              "    border: none;\n",
              "    border-radius: 50%;\n",
              "    cursor: pointer;\n",
              "    display: none;\n",
              "    fill: var(--fill-color);\n",
              "    height: 32px;\n",
              "    padding: 0;\n",
              "    width: 32px;\n",
              "  }\n",
              "\n",
              "  .colab-df-quickchart:hover {\n",
              "    background-color: var(--hover-bg-color);\n",
              "    box-shadow: 0 1px 2px rgba(60, 64, 67, 0.3), 0 1px 3px 1px rgba(60, 64, 67, 0.15);\n",
              "    fill: var(--button-hover-fill-color);\n",
              "  }\n",
              "\n",
              "  .colab-df-quickchart-complete:disabled,\n",
              "  .colab-df-quickchart-complete:disabled:hover {\n",
              "    background-color: var(--disabled-bg-color);\n",
              "    fill: var(--disabled-fill-color);\n",
              "    box-shadow: none;\n",
              "  }\n",
              "\n",
              "  .colab-df-spinner {\n",
              "    border: 2px solid var(--fill-color);\n",
              "    border-color: transparent;\n",
              "    border-bottom-color: var(--fill-color);\n",
              "    animation:\n",
              "      spin 1s steps(1) infinite;\n",
              "  }\n",
              "\n",
              "  @keyframes spin {\n",
              "    0% {\n",
              "      border-color: transparent;\n",
              "      border-bottom-color: var(--fill-color);\n",
              "      border-left-color: var(--fill-color);\n",
              "    }\n",
              "    20% {\n",
              "      border-color: transparent;\n",
              "      border-left-color: var(--fill-color);\n",
              "      border-top-color: var(--fill-color);\n",
              "    }\n",
              "    30% {\n",
              "      border-color: transparent;\n",
              "      border-left-color: var(--fill-color);\n",
              "      border-top-color: var(--fill-color);\n",
              "      border-right-color: var(--fill-color);\n",
              "    }\n",
              "    40% {\n",
              "      border-color: transparent;\n",
              "      border-right-color: var(--fill-color);\n",
              "      border-top-color: var(--fill-color);\n",
              "    }\n",
              "    60% {\n",
              "      border-color: transparent;\n",
              "      border-right-color: var(--fill-color);\n",
              "    }\n",
              "    80% {\n",
              "      border-color: transparent;\n",
              "      border-right-color: var(--fill-color);\n",
              "      border-bottom-color: var(--fill-color);\n",
              "    }\n",
              "    90% {\n",
              "      border-color: transparent;\n",
              "      border-bottom-color: var(--fill-color);\n",
              "    }\n",
              "  }\n",
              "</style>\n",
              "\n",
              "  <script>\n",
              "    async function quickchart(key) {\n",
              "      const quickchartButtonEl =\n",
              "        document.querySelector('#' + key + ' button');\n",
              "      quickchartButtonEl.disabled = true;  // To prevent multiple clicks.\n",
              "      quickchartButtonEl.classList.add('colab-df-spinner');\n",
              "      try {\n",
              "        const charts = await google.colab.kernel.invokeFunction(\n",
              "            'suggestCharts', [key], {});\n",
              "      } catch (error) {\n",
              "        console.error('Error during call to suggestCharts:', error);\n",
              "      }\n",
              "      quickchartButtonEl.classList.remove('colab-df-spinner');\n",
              "      quickchartButtonEl.classList.add('colab-df-quickchart-complete');\n",
              "    }\n",
              "    (() => {\n",
              "      let quickchartButtonEl =\n",
              "        document.querySelector('#df-3623c881-0b2b-4f1d-931a-823c9db089ca button');\n",
              "      quickchartButtonEl.style.display =\n",
              "        google.colab.kernel.accessAllowed ? 'block' : 'none';\n",
              "    })();\n",
              "  </script>\n",
              "</div>\n",
              "\n",
              "  <div id=\"id_485c997f-ef1b-413c-934b-3bf6843a5450\">\n",
              "    <style>\n",
              "      .colab-df-generate {\n",
              "        background-color: #E8F0FE;\n",
              "        border: none;\n",
              "        border-radius: 50%;\n",
              "        cursor: pointer;\n",
              "        display: none;\n",
              "        fill: #1967D2;\n",
              "        height: 32px;\n",
              "        padding: 0 0 0 0;\n",
              "        width: 32px;\n",
              "      }\n",
              "\n",
              "      .colab-df-generate:hover {\n",
              "        background-color: #E2EBFA;\n",
              "        box-shadow: 0px 1px 2px rgba(60, 64, 67, 0.3), 0px 1px 3px 1px rgba(60, 64, 67, 0.15);\n",
              "        fill: #174EA6;\n",
              "      }\n",
              "\n",
              "      [theme=dark] .colab-df-generate {\n",
              "        background-color: #3B4455;\n",
              "        fill: #D2E3FC;\n",
              "      }\n",
              "\n",
              "      [theme=dark] .colab-df-generate:hover {\n",
              "        background-color: #434B5C;\n",
              "        box-shadow: 0px 1px 3px 1px rgba(0, 0, 0, 0.15);\n",
              "        filter: drop-shadow(0px 1px 2px rgba(0, 0, 0, 0.3));\n",
              "        fill: #FFFFFF;\n",
              "      }\n",
              "    </style>\n",
              "    <button class=\"colab-df-generate\" onclick=\"generateWithVariable('top_5_empresas')\"\n",
              "            title=\"Generate code using this dataframe.\"\n",
              "            style=\"display:none;\">\n",
              "\n",
              "  <svg xmlns=\"http://www.w3.org/2000/svg\" height=\"24px\"viewBox=\"0 0 24 24\"\n",
              "       width=\"24px\">\n",
              "    <path d=\"M7,19H8.4L18.45,9,17,7.55,7,17.6ZM5,21V16.75L18.45,3.32a2,2,0,0,1,2.83,0l1.4,1.43a1.91,1.91,0,0,1,.58,1.4,1.91,1.91,0,0,1-.58,1.4L9.25,21ZM18.45,9,17,7.55Zm-12,3A5.31,5.31,0,0,0,4.9,8.1,5.31,5.31,0,0,0,1,6.5,5.31,5.31,0,0,0,4.9,4.9,5.31,5.31,0,0,0,6.5,1,5.31,5.31,0,0,0,8.1,4.9,5.31,5.31,0,0,0,12,6.5,5.46,5.46,0,0,0,6.5,12Z\"/>\n",
              "  </svg>\n",
              "    </button>\n",
              "    <script>\n",
              "      (() => {\n",
              "      const buttonEl =\n",
              "        document.querySelector('#id_485c997f-ef1b-413c-934b-3bf6843a5450 button.colab-df-generate');\n",
              "      buttonEl.style.display =\n",
              "        google.colab.kernel.accessAllowed ? 'block' : 'none';\n",
              "\n",
              "      buttonEl.onclick = () => {\n",
              "        google.colab.notebook.generateWithVariable('top_5_empresas');\n",
              "      }\n",
              "      })();\n",
              "    </script>\n",
              "  </div>\n",
              "\n",
              "    </div>\n",
              "  </div>\n"
            ],
            "application/vnd.google.colaboratory.intrinsic+json": {
              "type": "dataframe",
              "variable_name": "top_5_empresas",
              "summary": "{\n  \"name\": \"top_5_empresas\",\n  \"rows\": 5,\n  \"fields\": [\n    {\n      \"column\": \"nombre_empresa\",\n      \"properties\": {\n        \"dtype\": \"string\",\n        \"num_unique_values\": 5,\n        \"samples\": [\n          \"EMPRESA LINEA 216 S.A.T.\",\n          \"LA NUEVA METROPOL S.A.\",\n          \"LA CABA\\u00d1A S.A.\"\n        ],\n        \"semantic_type\": \"\",\n        \"description\": \"\"\n      }\n    },\n    {\n      \"column\": \"total_de_pasajeros\",\n      \"properties\": {\n        \"dtype\": \"number\",\n        \"std\": 15802822,\n        \"min\": 54419476,\n        \"max\": 91144040,\n        \"num_unique_values\": 5,\n        \"samples\": [\n          85937290,\n          54419476,\n          66374356\n        ],\n        \"semantic_type\": \"\",\n        \"description\": \"\"\n      }\n    },\n    {\n      \"column\": \"cantidad_de_l\\u00edneas\",\n      \"properties\": {\n        \"dtype\": \"number\",\n        \"std\": 1,\n        \"min\": 5,\n        \"max\": 9,\n        \"num_unique_values\": 3,\n        \"samples\": [\n          7,\n          9,\n          5\n        ],\n        \"semantic_type\": \"\",\n        \"description\": \"\"\n      }\n    },\n    {\n      \"column\": \"lineas\",\n      \"properties\": {\n        \"dtype\": \"object\",\n        \"semantic_type\": \"\",\n        \"description\": \"\"\n      }\n    },\n    {\n      \"column\": \"cantidad_de_municipios\",\n      \"properties\": {\n        \"dtype\": \"number\",\n        \"std\": 1,\n        \"min\": 2,\n        \"max\": 5,\n        \"num_unique_values\": 4,\n        \"samples\": [\n          5,\n          2,\n          3\n        ],\n        \"semantic_type\": \"\",\n        \"description\": \"\"\n      }\n    },\n    {\n      \"column\": \"municipios\",\n      \"properties\": {\n        \"dtype\": \"object\",\n        \"semantic_type\": \"\",\n        \"description\": \"\"\n      }\n    }\n  ]\n}"
            }
          },
          "metadata": {},
          "execution_count": 298
        }
      ]
    },
    {
      "cell_type": "markdown",
      "source": [
        "#### ¿En que municipios estan distribuidas estas empresas?"
      ],
      "metadata": {
        "id": "-IJLCZx3Ckqn"
      }
    },
    {
      "cell_type": "code",
      "source": [
        "municipios_expandidos = top_5_empresas.explode('municipios')\n",
        "municipio_frecuencias = municipios_expandidos['municipios'].value_counts().reset_index()\n",
        "municipio_frecuencias.columns = ['municipio', 'repeticiones']\n",
        "plt.figure(figsize=(12, 6))\n",
        "sns.barplot(data= municipio_frecuencias, x='municipio', y='repeticiones', hue = 'municipio',palette='viridis')\n",
        "plt.title('Repetición de municipios en las 5 empresas principales en AMBA')\n",
        "plt.xlabel('Municipio')\n",
        "plt.ylabel('Número de Repeticiones')\n",
        "plt.tight_layout()\n",
        "plt.show()\n"
      ],
      "metadata": {
        "id": "0_-M2lpnu90m",
        "colab": {
          "base_uri": "https://localhost:8080/",
          "height": 607
        },
        "outputId": "e45b0fc1-7f49-42c7-ae4d-37d7d4135179"
      },
      "execution_count": 303,
      "outputs": [
        {
          "output_type": "display_data",
          "data": {
            "text/plain": [
              "<Figure size 1200x600 with 1 Axes>"
            ],
            "image/png": "[encoded data removed]"
          },
          "metadata": {}
        }
      ]
    },
    {
      "cell_type": "markdown",
      "source": [
        "####¿Que líneas posee \"x\" empresa?"
      ],
      "metadata": {
        "id": "bcZgPnNeDTIG"
      }
    },
    {
      "cell_type": "code",
      "source": [
        "nombre_empresa_especifica = \"GENERAL TOMAS GUIDO S.A.C.I.F.\"\n",
        "empresa_especifica = top_5_empresas[top_5_empresas['nombre_empresa'] == nombre_empresa_especifica]\n",
        "print(f\"Las líneas que posee la empresa {nombre_empresa_especifica} son:\")\n",
        "print(empresa_especifica['lineas'].values[0])"
      ],
      "metadata": {
        "colab": {
          "base_uri": "https://localhost:8080/"
        },
        "id": "Gx8gCLawDX_3",
        "outputId": "826a5323-e55a-4abd-dada-10ba2de46df6"
      },
      "execution_count": 309,
      "outputs": [
        {
          "output_type": "stream",
          "name": "stdout",
          "text": [
            "Las líneas que posee la empresa GENERAL TOMAS GUIDO S.A.C.I.F. son:\n",
            "['BSAS_LINEA_299', 'BSAS_LINEA_271', 'BSAS_LINEA_373', 'BSAS_LINEA_084', 'BSAS_LINEA_384', 'BSAS_LINEA_570', 'BSAS_LINEA_009', 'LINEA_164_AMBA', 'BSAS_LINEA_25']\n"
          ]
        }
      ]
    },
    {
      "cell_type": "markdown",
      "source": [
        "#### ¿En que empresa se encuentra \"X\" línea?"
      ],
      "metadata": {
        "id": "qKrQU0E3Deov"
      }
    },
    {
      "cell_type": "code",
      "source": [
        "nombre_linea_especifica = \"BSAS_LINEA_009\"\n",
        "empresas_con_linea_especifica = resultados_por_empresa[resultados_por_empresa['lineas'].apply(lambda x: nombre_linea_especifica in x)]\n",
        "empresa_encontrada = empresas_con_linea_especifica['nombre_empresa'].values[0]\n",
        "print(f\"La empresa que posee a la línea {nombre_linea_especifica} es: {empresa_encontrada}\")\n"
      ],
      "metadata": {
        "colab": {
          "base_uri": "https://localhost:8080/"
        },
        "id": "iQO0x52kDO5S",
        "outputId": "848926a6-a006-4b26-f617-ad79f6975936"
      },
      "execution_count": 310,
      "outputs": [
        {
          "output_type": "stream",
          "name": "stdout",
          "text": [
            "La empresa que posee a la línea BSAS_LINEA_009 es: GENERAL TOMAS GUIDO S.A.C.I.F.\n"
          ]
        }
      ]
    },
    {
      "cell_type": "code",
      "source": [],
      "metadata": {
        "id": "_UhEESjXu93O"
      },
      "execution_count": 303,
      "outputs": []
    },
    {
      "cell_type": "markdown",
      "source": [
        "### **Modelado**"
      ],
      "metadata": {
        "id": "SWsmWdmqvIUd"
      }
    },
    {
      "cell_type": "markdown",
      "source": [
        "5. Modelo de regresión. En este ítem, intentaremos ajustar la cantidad de pasajeros que viajan por día en una línea de colectivos utilizando la información de pasajeros por día de otras líneas. Para esto, utilizaremos el dataset sube-2023-regresion.csv"
      ],
      "metadata": {
        "id": "eyaW5jaRvPrm"
      }
    },
    {
      "cell_type": "markdown",
      "source": [
        " #### a. Generar un DataFrame en el que las columnas sean las líneas de colectivo (TIPO_TRANSPORTE == \"COLECTIVO\") de AMBA de jurisdicción nacional (PROVINCIA == \"JN\") y las observaciones sean los días del año. Es decir, cada fila del DataFrame corresponde a un día del año, y en esa fila deben figurar la cantidad de pasajeros que viajaron en cada línea de colectivo en el día correspondiente."
      ],
      "metadata": {
        "id": "bT3-jmFWvmYH"
      }
    },
    {
      "cell_type": "code",
      "source": [
        "datos_regresion = pd.read_csv('sube-2023-regresion.csv')"
      ],
      "metadata": {
        "id": "rKP7tHF8vKCN"
      },
      "execution_count": 10,
      "outputs": []
    },
    {
      "cell_type": "code",
      "source": [
        "datos_ColectivoJN = datos_regresion[(datos_regresion['AMBA'] == 'SI') & (datos_regresion['PROVINCIA'] == 'JN') & (datos_regresion['TIPO_TRANSPORTE'] == 'COLECTIVO')]\n",
        "\n",
        "\n",
        "cols = datos_ColectivoJN['LINEA'].unique()\n",
        "pasajeros_por_linea = pd.DataFrame()\n",
        "\n",
        "for col in cols:\n",
        "    datos_linea = datos_ColectivoJN[datos_ColectivoJN['LINEA'] == col][['DIA_TRANSPORTE', 'CANTIDAD']]\n",
        "    datos_linea = datos_linea.set_index('DIA_TRANSPORTE').rename(columns={'CANTIDAD': col})\n",
        "    pasajeros_por_linea = pd.concat([pasajeros_por_linea, datos_linea], axis=1)"
      ],
      "metadata": {
        "id": "_ZoJisJav6_I"
      },
      "execution_count": 11,
      "outputs": []
    },
    {
      "cell_type": "markdown",
      "source": [
        "####b. Eliminar las columnas correspondientes a líneas de colectivo que tengan datos faltantes.\n"
      ],
      "metadata": {
        "id": "S5CkXJpGwNmu"
      }
    },
    {
      "cell_type": "code",
      "source": [
        "#Corroboramos de que efectivamente haya valores nulos\n",
        "pasajeros_por_linea.isnull().values.any()"
      ],
      "metadata": {
        "colab": {
          "base_uri": "https://localhost:8080/"
        },
        "id": "flFdzpbwwMcj",
        "outputId": "2649946f-493a-42da-caad-f1c69888d2cf"
      },
      "execution_count": 12,
      "outputs": [
        {
          "output_type": "execute_result",
          "data": {
            "text/plain": [
              "True"
            ]
          },
          "metadata": {},
          "execution_count": 12
        }
      ]
    },
    {
      "cell_type": "code",
      "source": [
        "pasajeros_por_linea = pasajeros_por_linea.dropna(axis = 1)"
      ],
      "metadata": {
        "id": "nebZ0FldwU6g"
      },
      "execution_count": 13,
      "outputs": []
    },
    {
      "cell_type": "markdown",
      "source": [
        "\n",
        "\n",
        "#### c,d,e,f.  \n",
        "\n",
        "*   Se quiere ajustar la cantidad de pasajeros en la línea BSAS_LINEA_009 en función de los\n",
        "pasajeros en otras líneas. Proponer tres modelos de regresión distintos. En cada modelo,\n",
        "pueden utilizarse la información solo de otras 5 líneas de colectivos (pueden ser distintas\n",
        "líneas de colectivo en los distintos modelos). Los criterios de selección de esas 5 columnas\n",
        "los determinan ustedes, y deben estar explicitados en el informe\n",
        "\n",
        "*   Si alguno de los modelos es Regresión Ridge, determinar mediante un esquema de validación el hiperparámetro α.\n",
        "\n",
        "*    Proponer un esquema de validación de los modelos y utilizarlo para seleccionar el mejor\n",
        "de los tres modelos propuestos.\n",
        "\n",
        "*   Para el modelo elegido, indicar la fórmula final de modelo.\n"
      ],
      "metadata": {
        "id": "KEldnWoIwi6Q"
      }
    },
    {
      "cell_type": "markdown",
      "source": [
        "##### **Modelos**"
      ],
      "metadata": {
        "id": "Hma0DjlHyrVC"
      }
    },
    {
      "cell_type": "code",
      "source": [
        "#Generamos un DataFrame en el cuál estaremos trabajando en nuestros modelos, en el cuál este estara normalizado en sus valores para poseer las mismas escalas\n",
        "datos_lineas = pasajeros_por_linea.copy()\n",
        "datos_lineas = datos_lineas.div(pasajeros_por_linea.max())\n",
        "datos_lineas.columns = datos_lineas.columns.str.replace(' ', '_').str.replace('.', '_')\n",
        "datos_lineas.head()"
      ],
      "metadata": {
        "id": "ISU1cT7y4Nu9",
        "colab": {
          "base_uri": "https://localhost:8080/",
          "height": 287
        },
        "outputId": "dadcc458-e694-46a8-a828-4f2bda8269e3"
      },
      "execution_count": 45,
      "outputs": [
        {
          "output_type": "execute_result",
          "data": {
            "text/plain": [
              "                BS_ASLINEA_123  BSAS_LINEA_002  BSAS_LINEA_009  \\\n",
              "DIA_TRANSPORTE                                                   \n",
              "2023-01-01            0.103319        0.147391        0.132138   \n",
              "2023-01-02            0.580209        0.565624        0.545127   \n",
              "2023-01-04            0.647818        0.643505        0.594784   \n",
              "2023-01-05            0.639705        0.669942        0.620162   \n",
              "2023-01-06            0.647203        0.676415        0.619437   \n",
              "\n",
              "                BSAS_LINEA_010  BSAS_LINEA_015  BSAS_LINEA_017  \\\n",
              "DIA_TRANSPORTE                                                   \n",
              "2023-01-01            0.143047        0.131104        0.138135   \n",
              "2023-01-02            0.585118        0.651549        0.590163   \n",
              "2023-01-04            0.657788        0.760993        0.662983   \n",
              "2023-01-05            0.682159        0.769096        0.692982   \n",
              "2023-01-06            0.667763        0.765166        0.693573   \n",
              "\n",
              "                BSAS_LINEA_019  BSAS_LINEA_020  BSAS_LINEA_021  \\\n",
              "DIA_TRANSPORTE                                                   \n",
              "2023-01-01            0.062495        0.095195        0.129099   \n",
              "2023-01-02            0.542391        0.434106        0.639016   \n",
              "2023-01-04            0.630094        0.486195        0.709225   \n",
              "2023-01-05            0.645562        0.470299        0.718291   \n",
              "2023-01-06            0.641276        0.471245        0.729989   \n",
              "\n",
              "                BSAS_LINEA_022  ...   LINEA_4  LINEA_42  LINEA_44  LINEA_50  \\\n",
              "DIA_TRANSPORTE                  ...                                           \n",
              "2023-01-01            0.085118  ...  0.116239  0.100159  0.126617  0.163386   \n",
              "2023-01-02            0.534325  ...  0.605650  0.474121  0.555247  0.547692   \n",
              "2023-01-04            0.626440  ...  0.704702  0.537190  0.642618  0.622886   \n",
              "2023-01-05            0.651836  ...  0.712920  0.546736  0.645124  0.624000   \n",
              "2023-01-06            0.651179  ...  0.716002  0.557376  0.646322  0.651653   \n",
              "\n",
              "                 LINEA_6   LINEA_7  LINEA_76   LINEA_8  LINEA_099  \\\n",
              "DIA_TRANSPORTE                                                      \n",
              "2023-01-01      0.100567  0.093317  0.120086  0.085400   0.089756   \n",
              "2023-01-02      0.430601  0.545804  0.549480  0.373434   0.492274   \n",
              "2023-01-04      0.500698  0.596009  0.628103  0.422326   0.571395   \n",
              "2023-01-05      0.529238  0.626730  0.671590  0.437135   0.562142   \n",
              "2023-01-06      0.521641  0.606691  0.742338  0.434838   0.551650   \n",
              "\n",
              "                LINEA_164_AMBA  \n",
              "DIA_TRANSPORTE                  \n",
              "2023-01-01            0.080985  \n",
              "2023-01-02            0.488483  \n",
              "2023-01-04            0.549588  \n",
              "2023-01-05            0.579560  \n",
              "2023-01-06            0.590635  \n",
              "\n",
              "[5 rows x 124 columns]"
            ],
            "text/html": [
              "\n",
              "  <div id=\"df-49893692-c64c-40eb-868c-a3ce9d3c467a\" class=\"colab-df-container\">\n",
              "    <div>\n",
              "<style scoped>\n",
              "    .dataframe tbody tr th:only-of-type {\n",
              "        vertical-align: middle;\n",
              "    }\n",
              "\n",
              "    .dataframe tbody tr th {\n",
              "        vertical-align: top;\n",
              "    }\n",
              "\n",
              "    .dataframe thead th {\n",
              "        text-align: right;\n",
              "    }\n",
              "</style>\n",
              "<table border=\"1\" class=\"dataframe\">\n",
              "  <thead>\n",
              "    <tr style=\"text-align: right;\">\n",
              "      <th></th>\n",
              "      <th>BS_ASLINEA_123</th>\n",
              "      <th>BSAS_LINEA_002</th>\n",
              "      <th>BSAS_LINEA_009</th>\n",
              "      <th>BSAS_LINEA_010</th>\n",
              "      <th>BSAS_LINEA_015</th>\n",
              "      <th>BSAS_LINEA_017</th>\n",
              "      <th>BSAS_LINEA_019</th>\n",
              "      <th>BSAS_LINEA_020</th>\n",
              "      <th>BSAS_LINEA_021</th>\n",
              "      <th>BSAS_LINEA_022</th>\n",
              "      <th>...</th>\n",
              "      <th>LINEA_4</th>\n",
              "      <th>LINEA_42</th>\n",
              "      <th>LINEA_44</th>\n",
              "      <th>LINEA_50</th>\n",
              "      <th>LINEA_6</th>\n",
              "      <th>LINEA_7</th>\n",
              "      <th>LINEA_76</th>\n",
              "      <th>LINEA_8</th>\n",
              "      <th>LINEA_099</th>\n",
              "      <th>LINEA_164_AMBA</th>\n",
              "    </tr>\n",
              "    <tr>\n",
              "      <th>DIA_TRANSPORTE</th>\n",
              "      <th></th>\n",
              "      <th></th>\n",
              "      <th></th>\n",
              "      <th></th>\n",
              "      <th></th>\n",
              "      <th></th>\n",
              "      <th></th>\n",
              "      <th></th>\n",
              "      <th></th>\n",
              "      <th></th>\n",
              "      <th></th>\n",
              "      <th></th>\n",
              "      <th></th>\n",
              "      <th></th>\n",
              "      <th></th>\n",
              "      <th></th>\n",
              "      <th></th>\n",
              "      <th></th>\n",
              "      <th></th>\n",
              "      <th></th>\n",
              "      <th></th>\n",
              "    </tr>\n",
              "  </thead>\n",
              "  <tbody>\n",
              "    <tr>\n",
              "      <th>2023-01-01</th>\n",
              "      <td>0.103319</td>\n",
              "      <td>0.147391</td>\n",
              "      <td>0.132138</td>\n",
              "      <td>0.143047</td>\n",
              "      <td>0.131104</td>\n",
              "      <td>0.138135</td>\n",
              "      <td>0.062495</td>\n",
              "      <td>0.095195</td>\n",
              "      <td>0.129099</td>\n",
              "      <td>0.085118</td>\n",
              "      <td>...</td>\n",
              "      <td>0.116239</td>\n",
              "      <td>0.100159</td>\n",
              "      <td>0.126617</td>\n",
              "      <td>0.163386</td>\n",
              "      <td>0.100567</td>\n",
              "      <td>0.093317</td>\n",
              "      <td>0.120086</td>\n",
              "      <td>0.085400</td>\n",
              "      <td>0.089756</td>\n",
              "      <td>0.080985</td>\n",
              "    </tr>\n",
              "    <tr>\n",
              "      <th>2023-01-02</th>\n",
              "      <td>0.580209</td>\n",
              "      <td>0.565624</td>\n",
              "      <td>0.545127</td>\n",
              "      <td>0.585118</td>\n",
              "      <td>0.651549</td>\n",
              "      <td>0.590163</td>\n",
              "      <td>0.542391</td>\n",
              "      <td>0.434106</td>\n",
              "      <td>0.639016</td>\n",
              "      <td>0.534325</td>\n",
              "      <td>...</td>\n",
              "      <td>0.605650</td>\n",
              "      <td>0.474121</td>\n",
              "      <td>0.555247</td>\n",
              "      <td>0.547692</td>\n",
              "      <td>0.430601</td>\n",
              "      <td>0.545804</td>\n",
              "      <td>0.549480</td>\n",
              "      <td>0.373434</td>\n",
              "      <td>0.492274</td>\n",
              "      <td>0.488483</td>\n",
              "    </tr>\n",
              "    <tr>\n",
              "      <th>2023-01-04</th>\n",
              "      <td>0.647818</td>\n",
              "      <td>0.643505</td>\n",
              "      <td>0.594784</td>\n",
              "      <td>0.657788</td>\n",
              "      <td>0.760993</td>\n",
              "      <td>0.662983</td>\n",
              "      <td>0.630094</td>\n",
              "      <td>0.486195</td>\n",
              "      <td>0.709225</td>\n",
              "      <td>0.626440</td>\n",
              "      <td>...</td>\n",
              "      <td>0.704702</td>\n",
              "      <td>0.537190</td>\n",
              "      <td>0.642618</td>\n",
              "      <td>0.622886</td>\n",
              "      <td>0.500698</td>\n",
              "      <td>0.596009</td>\n",
              "      <td>0.628103</td>\n",
              "      <td>0.422326</td>\n",
              "      <td>0.571395</td>\n",
              "      <td>0.549588</td>\n",
              "    </tr>\n",
              "    <tr>\n",
              "      <th>2023-01-05</th>\n",
              "      <td>0.639705</td>\n",
              "      <td>0.669942</td>\n",
              "      <td>0.620162</td>\n",
              "      <td>0.682159</td>\n",
              "      <td>0.769096</td>\n",
              "      <td>0.692982</td>\n",
              "      <td>0.645562</td>\n",
              "      <td>0.470299</td>\n",
              "      <td>0.718291</td>\n",
              "      <td>0.651836</td>\n",
              "      <td>...</td>\n",
              "      <td>0.712920</td>\n",
              "      <td>0.546736</td>\n",
              "      <td>0.645124</td>\n",
              "      <td>0.624000</td>\n",
              "      <td>0.529238</td>\n",
              "      <td>0.626730</td>\n",
              "      <td>0.671590</td>\n",
              "      <td>0.437135</td>\n",
              "      <td>0.562142</td>\n",
              "      <td>0.579560</td>\n",
              "    </tr>\n",
              "    <tr>\n",
              "      <th>2023-01-06</th>\n",
              "      <td>0.647203</td>\n",
              "      <td>0.676415</td>\n",
              "      <td>0.619437</td>\n",
              "      <td>0.667763</td>\n",
              "      <td>0.765166</td>\n",
              "      <td>0.693573</td>\n",
              "      <td>0.641276</td>\n",
              "      <td>0.471245</td>\n",
              "      <td>0.729989</td>\n",
              "      <td>0.651179</td>\n",
              "      <td>...</td>\n",
              "      <td>0.716002</td>\n",
              "      <td>0.557376</td>\n",
              "      <td>0.646322</td>\n",
              "      <td>0.651653</td>\n",
              "      <td>0.521641</td>\n",
              "      <td>0.606691</td>\n",
              "      <td>0.742338</td>\n",
              "      <td>0.434838</td>\n",
              "      <td>0.551650</td>\n",
              "      <td>0.590635</td>\n",
              "    </tr>\n",
              "  </tbody>\n",
              "</table>\n",
              "<p>5 rows × 124 columns</p>\n",
              "</div>\n",
              "    <div class=\"colab-df-buttons\">\n",
              "\n",
              "  <div class=\"colab-df-container\">\n",
              "    <button class=\"colab-df-convert\" onclick=\"convertToInteractive('df-49893692-c64c-40eb-868c-a3ce9d3c467a')\"\n",
              "            title=\"Convert this dataframe to an interactive table.\"\n",
              "            style=\"display:none;\">\n",
              "\n",
              "  <svg xmlns=\"http://www.w3.org/2000/svg\" height=\"24px\" viewBox=\"0 -960 960 960\">\n",
              "    <path d=\"M120-120v-720h720v720H120Zm60-500h600v-160H180v160Zm220 220h160v-160H400v160Zm0 220h160v-160H400v160ZM180-400h160v-160H180v160Zm440 0h160v-160H620v160ZM180-180h160v-160H180v160Zm440 0h160v-160H620v160Z\"/>\n",
              "  </svg>\n",
              "    </button>\n",
              "\n",
              "  <style>\n",
              "    .colab-df-container {\n",
              "      display:flex;\n",
              "      gap: 12px;\n",
              "    }\n",
              "\n",
              "    .colab-df-convert {\n",
              "      background-color: #E8F0FE;\n",
              "      border: none;\n",
              "      border-radius: 50%;\n",
              "      cursor: pointer;\n",
              "      display: none;\n",
              "      fill: #1967D2;\n",
              "      height: 32px;\n",
              "      padding: 0 0 0 0;\n",
              "      width: 32px;\n",
              "    }\n",
              "\n",
              "    .colab-df-convert:hover {\n",
              "      background-color: #E2EBFA;\n",
              "      box-shadow: 0px 1px 2px rgba(60, 64, 67, 0.3), 0px 1px 3px 1px rgba(60, 64, 67, 0.15);\n",
              "      fill: #174EA6;\n",
              "    }\n",
              "\n",
              "    .colab-df-buttons div {\n",
              "      margin-bottom: 4px;\n",
              "    }\n",
              "\n",
              "    [theme=dark] .colab-df-convert {\n",
              "      background-color: #3B4455;\n",
              "      fill: #D2E3FC;\n",
              "    }\n",
              "\n",
              "    [theme=dark] .colab-df-convert:hover {\n",
              "      background-color: #434B5C;\n",
              "      box-shadow: 0px 1px 3px 1px rgba(0, 0, 0, 0.15);\n",
              "      filter: drop-shadow(0px 1px 2px rgba(0, 0, 0, 0.3));\n",
              "      fill: #FFFFFF;\n",
              "    }\n",
              "  </style>\n",
              "\n",
              "    <script>\n",
              "      const buttonEl =\n",
              "        document.querySelector('#df-49893692-c64c-40eb-868c-a3ce9d3c467a button.colab-df-convert');\n",
              "      buttonEl.style.display =\n",
              "        google.colab.kernel.accessAllowed ? 'block' : 'none';\n",
              "\n",
              "      async function convertToInteractive(key) {\n",
              "        const element = document.querySelector('#df-49893692-c64c-40eb-868c-a3ce9d3c467a');\n",
              "        const dataTable =\n",
              "          await google.colab.kernel.invokeFunction('convertToInteractive',\n",
              "                                                    [key], {});\n",
              "        if (!dataTable) return;\n",
              "\n",
              "        const docLinkHtml = 'Like what you see? Visit the ' +\n",
              "          '<a target=\"_blank\" href=https://colab.research.google.com/notebooks/data_table.ipynb>data table notebook</a>'\n",
              "          + ' to learn more about interactive tables.';\n",
              "        element.innerHTML = '';\n",
              "        dataTable['output_type'] = 'display_data';\n",
              "        await google.colab.output.renderOutput(dataTable, element);\n",
              "        const docLink = document.createElement('div');\n",
              "        docLink.innerHTML = docLinkHtml;\n",
              "        element.appendChild(docLink);\n",
              "      }\n",
              "    </script>\n",
              "  </div>\n",
              "\n",
              "\n",
              "<div id=\"df-94a34e7f-27a1-491b-a782-79826b382da1\">\n",
              "  <button class=\"colab-df-quickchart\" onclick=\"quickchart('df-94a34e7f-27a1-491b-a782-79826b382da1')\"\n",
              "            title=\"Suggest charts\"\n",
              "            style=\"display:none;\">\n",
              "\n",
              "<svg xmlns=\"http://www.w3.org/2000/svg\" height=\"24px\"viewBox=\"0 0 24 24\"\n",
              "     width=\"24px\">\n",
              "    <g>\n",
              "        <path d=\"M19 3H5c-1.1 0-2 .9-2 2v14c0 1.1.9 2 2 2h14c1.1 0 2-.9 2-2V5c0-1.1-.9-2-2-2zM9 17H7v-7h2v7zm4 0h-2V7h2v10zm4 0h-2v-4h2v4z\"/>\n",
              "    </g>\n",
              "</svg>\n",
              "  </button>\n",
              "\n",
              "<style>\n",
              "  .colab-df-quickchart {\n",
              "      --bg-color: #E8F0FE;\n",
              "      --fill-color: #1967D2;\n",
              "      --hover-bg-color: #E2EBFA;\n",
              "      --hover-fill-color: #174EA6;\n",
              "      --disabled-fill-color: #AAA;\n",
              "      --disabled-bg-color: #DDD;\n",
              "  }\n",
              "\n",
              "  [theme=dark] .colab-df-quickchart {\n",
              "      --bg-color: #3B4455;\n",
              "      --fill-color: #D2E3FC;\n",
              "      --hover-bg-color: #434B5C;\n",
              "      --hover-fill-color: #FFFFFF;\n",
              "      --disabled-bg-color: #3B4455;\n",
              "      --disabled-fill-color: #666;\n",
              "  }\n",
              "\n",
              "  .colab-df-quickchart {\n",
              "    background-color: var(--bg-color);\n",
              "    border: none;\n",
              "    border-radius: 50%;\n",
              "    cursor: pointer;\n",
              "    display: none;\n",
              "    fill: var(--fill-color);\n",
              "    height: 32px;\n",
              "    padding: 0;\n",
              "    width: 32px;\n",
              "  }\n",
              "\n",
              "  .colab-df-quickchart:hover {\n",
              "    background-color: var(--hover-bg-color);\n",
              "    box-shadow: 0 1px 2px rgba(60, 64, 67, 0.3), 0 1px 3px 1px rgba(60, 64, 67, 0.15);\n",
              "    fill: var(--button-hover-fill-color);\n",
              "  }\n",
              "\n",
              "  .colab-df-quickchart-complete:disabled,\n",
              "  .colab-df-quickchart-complete:disabled:hover {\n",
              "    background-color: var(--disabled-bg-color);\n",
              "    fill: var(--disabled-fill-color);\n",
              "    box-shadow: none;\n",
              "  }\n",
              "\n",
              "  .colab-df-spinner {\n",
              "    border: 2px solid var(--fill-color);\n",
              "    border-color: transparent;\n",
              "    border-bottom-color: var(--fill-color);\n",
              "    animation:\n",
              "      spin 1s steps(1) infinite;\n",
              "  }\n",
              "\n",
              "  @keyframes spin {\n",
              "    0% {\n",
              "      border-color: transparent;\n",
              "      border-bottom-color: var(--fill-color);\n",
              "      border-left-color: var(--fill-color);\n",
              "    }\n",
              "    20% {\n",
              "      border-color: transparent;\n",
              "      border-left-color: var(--fill-color);\n",
              "      border-top-color: var(--fill-color);\n",
              "    }\n",
              "    30% {\n",
              "      border-color: transparent;\n",
              "      border-left-color: var(--fill-color);\n",
              "      border-top-color: var(--fill-color);\n",
              "      border-right-color: var(--fill-color);\n",
              "    }\n",
              "    40% {\n",
              "      border-color: transparent;\n",
              "      border-right-color: var(--fill-color);\n",
              "      border-top-color: var(--fill-color);\n",
              "    }\n",
              "    60% {\n",
              "      border-color: transparent;\n",
              "      border-right-color: var(--fill-color);\n",
              "    }\n",
              "    80% {\n",
              "      border-color: transparent;\n",
              "      border-right-color: var(--fill-color);\n",
              "      border-bottom-color: var(--fill-color);\n",
              "    }\n",
              "    90% {\n",
              "      border-color: transparent;\n",
              "      border-bottom-color: var(--fill-color);\n",
              "    }\n",
              "  }\n",
              "</style>\n",
              "\n",
              "  <script>\n",
              "    async function quickchart(key) {\n",
              "      const quickchartButtonEl =\n",
              "        document.querySelector('#' + key + ' button');\n",
              "      quickchartButtonEl.disabled = true;  // To prevent multiple clicks.\n",
              "      quickchartButtonEl.classList.add('colab-df-spinner');\n",
              "      try {\n",
              "        const charts = await google.colab.kernel.invokeFunction(\n",
              "            'suggestCharts', [key], {});\n",
              "      } catch (error) {\n",
              "        console.error('Error during call to suggestCharts:', error);\n",
              "      }\n",
              "      quickchartButtonEl.classList.remove('colab-df-spinner');\n",
              "      quickchartButtonEl.classList.add('colab-df-quickchart-complete');\n",
              "    }\n",
              "    (() => {\n",
              "      let quickchartButtonEl =\n",
              "        document.querySelector('#df-94a34e7f-27a1-491b-a782-79826b382da1 button');\n",
              "      quickchartButtonEl.style.display =\n",
              "        google.colab.kernel.accessAllowed ? 'block' : 'none';\n",
              "    })();\n",
              "  </script>\n",
              "</div>\n",
              "\n",
              "    </div>\n",
              "  </div>\n"
            ],
            "application/vnd.google.colaboratory.intrinsic+json": {
              "type": "dataframe",
              "variable_name": "datos_lineas"
            }
          },
          "metadata": {},
          "execution_count": 45
        }
      ]
    },
    {
      "cell_type": "code",
      "source": [
        "# Separamos a nuestro DataFrame en uno de entranimiento y otro de testo, con una proporción de 80% para el primero y 20% para el segundo.\n",
        "df_train, df_test = train_test_split(datos_lineas, test_size=0.2, random_state=42)"
      ],
      "metadata": {
        "id": "-76VcoZp4lqK"
      },
      "execution_count": 46,
      "outputs": []
    },
    {
      "cell_type": "markdown",
      "source": [
        "######**Modelo 1**"
      ],
      "metadata": {
        "id": "bqtz_bSQ0X03"
      }
    },
    {
      "cell_type": "markdown",
      "source": [
        "¿Qué es lo que haremos para este primer modelo?\n",
        "\n",
        "* Lo primero será crear un pseudo modelo denotado modelo **\"madre\"**, en el cuál este modelo será formado como:\n",
        "\n",
        "  **'BSAS_LINEA_009 ~ Linea_Xi + Linea_Xi+1 ... + Linea_xn-1 + Linea_xn\"**, donde se sumaran todas las líneas salvo la que queremos inferir.\n",
        "\n",
        "\n",
        "¿Por qué hacemos esto?\n",
        "\n",
        "* Porque consideramos que será el que mejor aproxime a nuestro modelo, ahora bien a la hora de realizar este modelo tendremos que tener en cuenta la posible colinealidad que haya entre coeficientes y por ende en la dependencia que haya entre líneas. Por esto mismo, para este modelo \"Madre\" utilizaremos el método de **regresión de Ridge** y posteriormente nos quedaremos con las **5 líneas que mayor ponderancia** poseen en peso en nuestro modelo, así posteriormente podemos realizar a nuestro **\"Modelo 1\"** como las 5 líneas que mejor ponderaron en nuestro modelo \"Madre\""
      ],
      "metadata": {
        "id": "b7wZmSqV0z2Z"
      }
    },
    {
      "cell_type": "code",
      "source": [
        "#Generamos la fórmula que será la sumatoria de todos nuestros campos correspondientes a la línea, salvo la línea a inferir\n",
        "linea = 'BSAS_LINEA_009'\n",
        "otras_lineas = [col for col in datos_lineas.columns if col != linea]\n",
        "formula = f'{linea} ~ ' + ' + '.join(otras_lineas)"
      ],
      "metadata": {
        "id": "Bj7_PA9fyXVn",
        "collapsed": true
      },
      "execution_count": 229,
      "outputs": []
    },
    {
      "cell_type": "code",
      "source": [
        "# Construimos las matrices X e y para entrenamiento de nuestro modelo madre\n",
        "y, X =  Formula(formula).get_model_matrix(df_train)\n",
        "\n",
        "#Generamos un vector de hiperpárametros alphas con distintas magnitudes en un primer acercamiento\n",
        "alphas = np.array([0.1, 0.3, 0.5, 0.8,1 , 3, 5])\n",
        "\n",
        "for alpha in alphas:\n",
        "    # Inicializamos un modelo de Regresion de Ridge sin intercept\n",
        "    modeloRidge = linear_model.Ridge(alpha = alpha, fit_intercept = False)\n",
        "    cv = KFold(n_splits=5, random_state=42, shuffle=True)  # Realizamos KFold con 5 pliegos\n",
        "    rmse = np.zeros(cv.get_n_splits())  # Vamos a guardar el error en cada pliego\n",
        "\n",
        "    ind = 0\n",
        "    for train_index, val_index in cv.split(X):\n",
        "        X_train, X_val, y_train, y_val = X.iloc[train_index], X.iloc[val_index], y.iloc[train_index], y.iloc[val_index]\n",
        "        modeloRidge.fit(X_train, y_train)\n",
        "\n",
        "        y_pred = modeloRidge.predict(X_val)\n",
        "        rmse[ind] = np.sqrt(mean_squared_error(y_val, y_pred))\n",
        "        ind = ind + 1\n",
        "\n",
        "    print(f\"Para alpha = {alpha:.5f} la raíz del Error Cuadratico Medio es: {rmse.mean():.5f}\")"
      ],
      "metadata": {
        "id": "Q41FoXqwyqAJ",
        "colab": {
          "base_uri": "https://localhost:8080/"
        },
        "outputId": "9bfba6b4-e222-4e10-b500-abb9e138a84b"
      },
      "execution_count": 230,
      "outputs": [
        {
          "output_type": "stream",
          "name": "stdout",
          "text": [
            "Para alpha = 0.10000 la raíz del Error Cuadratico Medio es: 0.04566\n",
            "Para alpha = 0.30000 la raíz del Error Cuadratico Medio es: 0.04434\n",
            "Para alpha = 0.50000 la raíz del Error Cuadratico Medio es: 0.04421\n",
            "Para alpha = 0.80000 la raíz del Error Cuadratico Medio es: 0.04453\n",
            "Para alpha = 1.00000 la raíz del Error Cuadratico Medio es: 0.04485\n",
            "Para alpha = 3.00000 la raíz del Error Cuadratico Medio es: 0.04785\n",
            "Para alpha = 5.00000 la raíz del Error Cuadratico Medio es: 0.04981\n"
          ]
        }
      ]
    },
    {
      "cell_type": "markdown",
      "source": [
        "Podemos ver que en este primer acercamiento el alpha a buscar se encontrá dentro del rango de [0.3, ...., 0.8]"
      ],
      "metadata": {
        "id": "L-Gr_xtIcjQO"
      }
    },
    {
      "cell_type": "code",
      "source": [
        "#Volvemos a iterar con valores próximos a este rango\n",
        "alphas = np.array([0.1, 0.2, 0.3, 0.4, 0.45,0.5, 0.6, 0.7,0.8])\n",
        "\n",
        "for alpha in alphas:\n",
        "    # Inicializamos un modelo de Regresion de Ridge sin intercept\n",
        "    modeloRidge = linear_model.Ridge(alpha = alpha, fit_intercept = False)\n",
        "    rmse = np.zeros(cv.get_n_splits())  # Vamos a guardar el error en cada pliego\n",
        "    ind = 0\n",
        "\n",
        "    for train_index, val_index in cv.split(X):\n",
        "        X_train, X_val, y_train, y_val = X.iloc[train_index], X.iloc[val_index], y.iloc[train_index], y.iloc[val_index]\n",
        "        modeloRidge.fit(X_train, y_train)\n",
        "\n",
        "        y_pred = modeloRidge.predict(X_val)\n",
        "        rmse[ind] = np.sqrt(mean_squared_error(y_val, y_pred))\n",
        "        ind = ind + 1\n",
        "\n",
        "    print(f\"Para alpha = {alpha:.5f} la raiz del error cuadratico medio es: {rmse.mean():.5f}\")"
      ],
      "metadata": {
        "colab": {
          "base_uri": "https://localhost:8080/"
        },
        "id": "k09WLM6Ccj4P",
        "outputId": "8cdc4342-400e-47a7-aa15-fc3692a930eb"
      },
      "execution_count": 231,
      "outputs": [
        {
          "output_type": "stream",
          "name": "stdout",
          "text": [
            "Para alpha = 0.10000 la raiz del error cuadratico medio es: 0.04566\n",
            "Para alpha = 0.20000 la raiz del error cuadratico medio es: 0.04469\n",
            "Para alpha = 0.30000 la raiz del error cuadratico medio es: 0.04434\n",
            "Para alpha = 0.40000 la raiz del error cuadratico medio es: 0.04421\n",
            "Para alpha = 0.45000 la raiz del error cuadratico medio es: 0.04420\n",
            "Para alpha = 0.50000 la raiz del error cuadratico medio es: 0.04421\n",
            "Para alpha = 0.60000 la raiz del error cuadratico medio es: 0.04428\n",
            "Para alpha = 0.70000 la raiz del error cuadratico medio es: 0.04439\n",
            "Para alpha = 0.80000 la raiz del error cuadratico medio es: 0.04453\n"
          ]
        }
      ]
    },
    {
      "cell_type": "markdown",
      "source": [
        "Podemos ver que el alpha óptimo es alpha = 0.45000"
      ],
      "metadata": {
        "id": "kQbJyh0AcnLS"
      }
    },
    {
      "cell_type": "code",
      "source": [
        "alpha_optimo = 0.45\n",
        "modeloRidge = linear_model.Ridge(alpha = alpha_optimo, fit_intercept = False)\n",
        "modeloRidge.fit(X, y)\n",
        "\n",
        "# Construimos las matrices X e y para entrenamiento\n",
        "y_test, X_test =  Formula(formula).get_model_matrix(df_test)\n",
        "\n",
        "y_pred = modeloRidge.predict(X_test)\n",
        "\n",
        "rmse = np.sqrt(mean_squared_error(y_test, y_pred))\n",
        "print(f\"For alpha = {alpha_optimo:.5f} the Root Mean Squared Error is: {rmse.mean():.5f}\")\n",
        "r2 = r2_score(y_test, y_pred)\n",
        "print('R^2: ', r2)"
      ],
      "metadata": {
        "colab": {
          "base_uri": "https://localhost:8080/"
        },
        "id": "RDE8o-vLcmoC",
        "outputId": "f28f934e-d4b3-4bef-ded3-af8e9885aeeb"
      },
      "execution_count": 232,
      "outputs": [
        {
          "output_type": "stream",
          "name": "stdout",
          "text": [
            "For alpha = 0.45000 the Root Mean Squared Error is: 0.04024\n",
            "R^2:  0.9691767077063395\n"
          ]
        }
      ]
    },
    {
      "cell_type": "markdown",
      "source": [
        "Ahora bien este modelo madre utiliza a todas las demás líneas correspondientes, por lo que deberíamos de visualizar sus coeficientes y seleccionar aquellos que mayor ponderancia y aporte al modelo tengan.\n",
        "\n",
        "Primero realizamos una gráfica para observar la distribución de estos coeficientes:"
      ],
      "metadata": {
        "id": "Wxk_Pq8DdAM_"
      }
    },
    {
      "cell_type": "code",
      "source": [
        "#Observamos a los coeficientes utilizados sin el valor del intercept\n",
        "coeficientes = modeloRidge.coef_.flatten()\n",
        "(\n",
        "    so.Plot(x = np.array(range(len(coeficientes[1:]))), y = coeficientes[1:] )\n",
        "    .add(so.Bars())\n",
        ")\n"
      ],
      "metadata": {
        "colab": {
          "base_uri": "https://localhost:8080/",
          "height": 395
        },
        "id": "K7_qic0zdTe1",
        "outputId": "44774eb9-277b-4ca1-d3ac-c6aff26a4273"
      },
      "execution_count": 233,
      "outputs": [
        {
          "output_type": "execute_result",
          "data": {
            "text/plain": [
              "<seaborn._core.plot.Plot at 0x7e65349ab250>"
            ],
            "image/png": "[encoded data removed]"
          },
          "metadata": {
            "image/png": {
              "width": 509.15,
              "height": 378.25
            }
          },
          "execution_count": 233
        }
      ]
    },
    {
      "cell_type": "code",
      "source": [
        "#Realizamos un data frame en el cuál guardaremos el coeficiente asociado a la línea correspondiente, posteriormente nos querdaremos con los valores modulos y filtraremos a los top 5, obviamente quitamos al intercept\n",
        "lineas_coeficientes = pd.DataFrame({'Línea': X.columns[1:], 'Coeficiente': coeficientes[1:]})\n",
        "lineas_seleccionadas_top_5_modulo = lineas_coeficientes.reindex(lineas_coeficientes['Coeficiente'].abs().sort_values(ascending=False).index[:5])\n",
        "display(lineas_seleccionadas_top_5_modulo)"
      ],
      "metadata": {
        "colab": {
          "base_uri": "https://localhost:8080/",
          "height": 206
        },
        "id": "OIiP5plgdxUH",
        "outputId": "08cc77df-4c6e-4a2a-99f6-c0f1c37aeef3"
      },
      "execution_count": 234,
      "outputs": [
        {
          "output_type": "display_data",
          "data": {
            "text/plain": [
              "              Línea  Coeficiente\n",
              "58   BSAS_LINEA_108     0.165027\n",
              "61   BSAS_LINEA_111     0.103319\n",
              "74   BSAS_LINEA_135     0.102616\n",
              "95   BSAS_LINEA_178     0.084941\n",
              "106       LINEA_101     0.084067"
            ],
            "text/html": [
              "\n",
              "  <div id=\"df-f2beb153-2cb6-4180-9240-b629d2b02ddb\" class=\"colab-df-container\">\n",
              "    <div>\n",
              "<style scoped>\n",
              "    .dataframe tbody tr th:only-of-type {\n",
              "        vertical-align: middle;\n",
              "    }\n",
              "\n",
              "    .dataframe tbody tr th {\n",
              "        vertical-align: top;\n",
              "    }\n",
              "\n",
              "    .dataframe thead th {\n",
              "        text-align: right;\n",
              "    }\n",
              "</style>\n",
              "<table border=\"1\" class=\"dataframe\">\n",
              "  <thead>\n",
              "    <tr style=\"text-align: right;\">\n",
              "      <th></th>\n",
              "      <th>Línea</th>\n",
              "      <th>Coeficiente</th>\n",
              "    </tr>\n",
              "  </thead>\n",
              "  <tbody>\n",
              "    <tr>\n",
              "      <th>58</th>\n",
              "      <td>BSAS_LINEA_108</td>\n",
              "      <td>0.165027</td>\n",
              "    </tr>\n",
              "    <tr>\n",
              "      <th>61</th>\n",
              "      <td>BSAS_LINEA_111</td>\n",
              "      <td>0.103319</td>\n",
              "    </tr>\n",
              "    <tr>\n",
              "      <th>74</th>\n",
              "      <td>BSAS_LINEA_135</td>\n",
              "      <td>0.102616</td>\n",
              "    </tr>\n",
              "    <tr>\n",
              "      <th>95</th>\n",
              "      <td>BSAS_LINEA_178</td>\n",
              "      <td>0.084941</td>\n",
              "    </tr>\n",
              "    <tr>\n",
              "      <th>106</th>\n",
              "      <td>LINEA_101</td>\n",
              "      <td>0.084067</td>\n",
              "    </tr>\n",
              "  </tbody>\n",
              "</table>\n",
              "</div>\n",
              "    <div class=\"colab-df-buttons\">\n",
              "\n",
              "  <div class=\"colab-df-container\">\n",
              "    <button class=\"colab-df-convert\" onclick=\"convertToInteractive('df-f2beb153-2cb6-4180-9240-b629d2b02ddb')\"\n",
              "            title=\"Convert this dataframe to an interactive table.\"\n",
              "            style=\"display:none;\">\n",
              "\n",
              "  <svg xmlns=\"http://www.w3.org/2000/svg\" height=\"24px\" viewBox=\"0 -960 960 960\">\n",
              "    <path d=\"M120-120v-720h720v720H120Zm60-500h600v-160H180v160Zm220 220h160v-160H400v160Zm0 220h160v-160H400v160ZM180-400h160v-160H180v160Zm440 0h160v-160H620v160ZM180-180h160v-160H180v160Zm440 0h160v-160H620v160Z\"/>\n",
              "  </svg>\n",
              "    </button>\n",
              "\n",
              "  <style>\n",
              "    .colab-df-container {\n",
              "      display:flex;\n",
              "      gap: 12px;\n",
              "    }\n",
              "\n",
              "    .colab-df-convert {\n",
              "      background-color: #E8F0FE;\n",
              "      border: none;\n",
              "      border-radius: 50%;\n",
              "      cursor: pointer;\n",
              "      display: none;\n",
              "      fill: #1967D2;\n",
              "      height: 32px;\n",
              "      padding: 0 0 0 0;\n",
              "      width: 32px;\n",
              "    }\n",
              "\n",
              "    .colab-df-convert:hover {\n",
              "      background-color: #E2EBFA;\n",
              "      box-shadow: 0px 1px 2px rgba(60, 64, 67, 0.3), 0px 1px 3px 1px rgba(60, 64, 67, 0.15);\n",
              "      fill: #174EA6;\n",
              "    }\n",
              "\n",
              "    .colab-df-buttons div {\n",
              "      margin-bottom: 4px;\n",
              "    }\n",
              "\n",
              "    [theme=dark] .colab-df-convert {\n",
              "      background-color: #3B4455;\n",
              "      fill: #D2E3FC;\n",
              "    }\n",
              "\n",
              "    [theme=dark] .colab-df-convert:hover {\n",
              "      background-color: #434B5C;\n",
              "      box-shadow: 0px 1px 3px 1px rgba(0, 0, 0, 0.15);\n",
              "      filter: drop-shadow(0px 1px 2px rgba(0, 0, 0, 0.3));\n",
              "      fill: #FFFFFF;\n",
              "    }\n",
              "  </style>\n",
              "\n",
              "    <script>\n",
              "      const buttonEl =\n",
              "        document.querySelector('#df-f2beb153-2cb6-4180-9240-b629d2b02ddb button.colab-df-convert');\n",
              "      buttonEl.style.display =\n",
              "        google.colab.kernel.accessAllowed ? 'block' : 'none';\n",
              "\n",
              "      async function convertToInteractive(key) {\n",
              "        const element = document.querySelector('#df-f2beb153-2cb6-4180-9240-b629d2b02ddb');\n",
              "        const dataTable =\n",
              "          await google.colab.kernel.invokeFunction('convertToInteractive',\n",
              "                                                    [key], {});\n",
              "        if (!dataTable) return;\n",
              "\n",
              "        const docLinkHtml = 'Like what you see? Visit the ' +\n",
              "          '<a target=\"_blank\" href=https://colab.research.google.com/notebooks/data_table.ipynb>data table notebook</a>'\n",
              "          + ' to learn more about interactive tables.';\n",
              "        element.innerHTML = '';\n",
              "        dataTable['output_type'] = 'display_data';\n",
              "        await google.colab.output.renderOutput(dataTable, element);\n",
              "        const docLink = document.createElement('div');\n",
              "        docLink.innerHTML = docLinkHtml;\n",
              "        element.appendChild(docLink);\n",
              "      }\n",
              "    </script>\n",
              "  </div>\n",
              "\n",
              "\n",
              "<div id=\"df-96a6662e-ce23-4b1b-8d7e-e9d17b3fdd1d\">\n",
              "  <button class=\"colab-df-quickchart\" onclick=\"quickchart('df-96a6662e-ce23-4b1b-8d7e-e9d17b3fdd1d')\"\n",
              "            title=\"Suggest charts\"\n",
              "            style=\"display:none;\">\n",
              "\n",
              "<svg xmlns=\"http://www.w3.org/2000/svg\" height=\"24px\"viewBox=\"0 0 24 24\"\n",
              "     width=\"24px\">\n",
              "    <g>\n",
              "        <path d=\"M19 3H5c-1.1 0-2 .9-2 2v14c0 1.1.9 2 2 2h14c1.1 0 2-.9 2-2V5c0-1.1-.9-2-2-2zM9 17H7v-7h2v7zm4 0h-2V7h2v10zm4 0h-2v-4h2v4z\"/>\n",
              "    </g>\n",
              "</svg>\n",
              "  </button>\n",
              "\n",
              "<style>\n",
              "  .colab-df-quickchart {\n",
              "      --bg-color: #E8F0FE;\n",
              "      --fill-color: #1967D2;\n",
              "      --hover-bg-color: #E2EBFA;\n",
              "      --hover-fill-color: #174EA6;\n",
              "      --disabled-fill-color: #AAA;\n",
              "      --disabled-bg-color: #DDD;\n",
              "  }\n",
              "\n",
              "  [theme=dark] .colab-df-quickchart {\n",
              "      --bg-color: #3B4455;\n",
              "      --fill-color: #D2E3FC;\n",
              "      --hover-bg-color: #434B5C;\n",
              "      --hover-fill-color: #FFFFFF;\n",
              "      --disabled-bg-color: #3B4455;\n",
              "      --disabled-fill-color: #666;\n",
              "  }\n",
              "\n",
              "  .colab-df-quickchart {\n",
              "    background-color: var(--bg-color);\n",
              "    border: none;\n",
              "    border-radius: 50%;\n",
              "    cursor: pointer;\n",
              "    display: none;\n",
              "    fill: var(--fill-color);\n",
              "    height: 32px;\n",
              "    padding: 0;\n",
              "    width: 32px;\n",
              "  }\n",
              "\n",
              "  .colab-df-quickchart:hover {\n",
              "    background-color: var(--hover-bg-color);\n",
              "    box-shadow: 0 1px 2px rgba(60, 64, 67, 0.3), 0 1px 3px 1px rgba(60, 64, 67, 0.15);\n",
              "    fill: var(--button-hover-fill-color);\n",
              "  }\n",
              "\n",
              "  .colab-df-quickchart-complete:disabled,\n",
              "  .colab-df-quickchart-complete:disabled:hover {\n",
              "    background-color: var(--disabled-bg-color);\n",
              "    fill: var(--disabled-fill-color);\n",
              "    box-shadow: none;\n",
              "  }\n",
              "\n",
              "  .colab-df-spinner {\n",
              "    border: 2px solid var(--fill-color);\n",
              "    border-color: transparent;\n",
              "    border-bottom-color: var(--fill-color);\n",
              "    animation:\n",
              "      spin 1s steps(1) infinite;\n",
              "  }\n",
              "\n",
              "  @keyframes spin {\n",
              "    0% {\n",
              "      border-color: transparent;\n",
              "      border-bottom-color: var(--fill-color);\n",
              "      border-left-color: var(--fill-color);\n",
              "    }\n",
              "    20% {\n",
              "      border-color: transparent;\n",
              "      border-left-color: var(--fill-color);\n",
              "      border-top-color: var(--fill-color);\n",
              "    }\n",
              "    30% {\n",
              "      border-color: transparent;\n",
              "      border-left-color: var(--fill-color);\n",
              "      border-top-color: var(--fill-color);\n",
              "      border-right-color: var(--fill-color);\n",
              "    }\n",
              "    40% {\n",
              "      border-color: transparent;\n",
              "      border-right-color: var(--fill-color);\n",
              "      border-top-color: var(--fill-color);\n",
              "    }\n",
              "    60% {\n",
              "      border-color: transparent;\n",
              "      border-right-color: var(--fill-color);\n",
              "    }\n",
              "    80% {\n",
              "      border-color: transparent;\n",
              "      border-right-color: var(--fill-color);\n",
              "      border-bottom-color: var(--fill-color);\n",
              "    }\n",
              "    90% {\n",
              "      border-color: transparent;\n",
              "      border-bottom-color: var(--fill-color);\n",
              "    }\n",
              "  }\n",
              "</style>\n",
              "\n",
              "  <script>\n",
              "    async function quickchart(key) {\n",
              "      const quickchartButtonEl =\n",
              "        document.querySelector('#' + key + ' button');\n",
              "      quickchartButtonEl.disabled = true;  // To prevent multiple clicks.\n",
              "      quickchartButtonEl.classList.add('colab-df-spinner');\n",
              "      try {\n",
              "        const charts = await google.colab.kernel.invokeFunction(\n",
              "            'suggestCharts', [key], {});\n",
              "      } catch (error) {\n",
              "        console.error('Error during call to suggestCharts:', error);\n",
              "      }\n",
              "      quickchartButtonEl.classList.remove('colab-df-spinner');\n",
              "      quickchartButtonEl.classList.add('colab-df-quickchart-complete');\n",
              "    }\n",
              "    (() => {\n",
              "      let quickchartButtonEl =\n",
              "        document.querySelector('#df-96a6662e-ce23-4b1b-8d7e-e9d17b3fdd1d button');\n",
              "      quickchartButtonEl.style.display =\n",
              "        google.colab.kernel.accessAllowed ? 'block' : 'none';\n",
              "    })();\n",
              "  </script>\n",
              "</div>\n",
              "\n",
              "  <div id=\"id_6a938197-8069-4fa9-ab85-8fe1af78bf2a\">\n",
              "    <style>\n",
              "      .colab-df-generate {\n",
              "        background-color: #E8F0FE;\n",
              "        border: none;\n",
              "        border-radius: 50%;\n",
              "        cursor: pointer;\n",
              "        display: none;\n",
              "        fill: #1967D2;\n",
              "        height: 32px;\n",
              "        padding: 0 0 0 0;\n",
              "        width: 32px;\n",
              "      }\n",
              "\n",
              "      .colab-df-generate:hover {\n",
              "        background-color: #E2EBFA;\n",
              "        box-shadow: 0px 1px 2px rgba(60, 64, 67, 0.3), 0px 1px 3px 1px rgba(60, 64, 67, 0.15);\n",
              "        fill: #174EA6;\n",
              "      }\n",
              "\n",
              "      [theme=dark] .colab-df-generate {\n",
              "        background-color: #3B4455;\n",
              "        fill: #D2E3FC;\n",
              "      }\n",
              "\n",
              "      [theme=dark] .colab-df-generate:hover {\n",
              "        background-color: #434B5C;\n",
              "        box-shadow: 0px 1px 3px 1px rgba(0, 0, 0, 0.15);\n",
              "        filter: drop-shadow(0px 1px 2px rgba(0, 0, 0, 0.3));\n",
              "        fill: #FFFFFF;\n",
              "      }\n",
              "    </style>\n",
              "    <button class=\"colab-df-generate\" onclick=\"generateWithVariable('lineas_seleccionadas_top_5_modulo')\"\n",
              "            title=\"Generate code using this dataframe.\"\n",
              "            style=\"display:none;\">\n",
              "\n",
              "  <svg xmlns=\"http://www.w3.org/2000/svg\" height=\"24px\"viewBox=\"0 0 24 24\"\n",
              "       width=\"24px\">\n",
              "    <path d=\"M7,19H8.4L18.45,9,17,7.55,7,17.6ZM5,21V16.75L18.45,3.32a2,2,0,0,1,2.83,0l1.4,1.43a1.91,1.91,0,0,1,.58,1.4,1.91,1.91,0,0,1-.58,1.4L9.25,21ZM18.45,9,17,7.55Zm-12,3A5.31,5.31,0,0,0,4.9,8.1,5.31,5.31,0,0,0,1,6.5,5.31,5.31,0,0,0,4.9,4.9,5.31,5.31,0,0,0,6.5,1,5.31,5.31,0,0,0,8.1,4.9,5.31,5.31,0,0,0,12,6.5,5.46,5.46,0,0,0,6.5,12Z\"/>\n",
              "  </svg>\n",
              "    </button>\n",
              "    <script>\n",
              "      (() => {\n",
              "      const buttonEl =\n",
              "        document.querySelector('#id_6a938197-8069-4fa9-ab85-8fe1af78bf2a button.colab-df-generate');\n",
              "      buttonEl.style.display =\n",
              "        google.colab.kernel.accessAllowed ? 'block' : 'none';\n",
              "\n",
              "      buttonEl.onclick = () => {\n",
              "        google.colab.notebook.generateWithVariable('lineas_seleccionadas_top_5_modulo');\n",
              "      }\n",
              "      })();\n",
              "    </script>\n",
              "  </div>\n",
              "\n",
              "    </div>\n",
              "  </div>\n"
            ],
            "application/vnd.google.colaboratory.intrinsic+json": {
              "type": "dataframe",
              "variable_name": "lineas_seleccionadas_top_5_modulo",
              "summary": "{\n  \"name\": \"lineas_seleccionadas_top_5_modulo\",\n  \"rows\": 5,\n  \"fields\": [\n    {\n      \"column\": \"L\\u00ednea\",\n      \"properties\": {\n        \"dtype\": \"string\",\n        \"num_unique_values\": 5,\n        \"samples\": [\n          \"BSAS_LINEA_111\",\n          \"LINEA_101\",\n          \"BSAS_LINEA_135\"\n        ],\n        \"semantic_type\": \"\",\n        \"description\": \"\"\n      }\n    },\n    {\n      \"column\": \"Coeficiente\",\n      \"properties\": {\n        \"dtype\": \"number\",\n        \"std\": 0.03319433282060032,\n        \"min\": 0.08406690270694567,\n        \"max\": 0.16502663393571249,\n        \"num_unique_values\": 5,\n        \"samples\": [\n          0.10331917323039769,\n          0.08406690270694567,\n          0.10261565843131583\n        ],\n        \"semantic_type\": \"\",\n        \"description\": \"\"\n      }\n    }\n  ]\n}"
            }
          },
          "metadata": {}
        }
      ]
    },
    {
      "cell_type": "markdown",
      "source": [
        "Observamos que estas 5 líneas encontradas son las que mayor ponderacia y peso tienen el modelo Madre desarrollado, por lo que procederemos a crear al modelo 1:\n",
        "\n",
        " **BSAS_LINEA_009 ~ BSAS_LINEA_108 + BSAS_LINEA_111 + BSAS_LINEA_135 + BSAS_LINEA_178 + LINEA_101**"
      ],
      "metadata": {
        "id": "pYd7HRmOhbls"
      }
    },
    {
      "cell_type": "code",
      "source": [
        "formula_1 = 'BSAS_LINEA_009 ~ BSAS_LINEA_108 + BSAS_LINEA_111 + BSAS_LINEA_135 + BSAS_LINEA_178 + LINEA_101'\n",
        "y1, X1 = (\n",
        "    Formula(formula_1)\n",
        "    .get_model_matrix(df_train)\n",
        ")\n",
        "\n",
        "# Definimos los subconjuntos para la validación cruzada.\n",
        "\n",
        "# Realizamos KFold con 6 pliegos\n",
        "cv = KFold(n_splits=6, random_state=42, shuffle=True)\n",
        "\n",
        "# Inicializamos un modelo de Regresion lineal sin intercept\n",
        "modelo1 = linear_model.LinearRegression(fit_intercept = False)\n",
        "rmse1 = np.zeros(cv.get_n_splits())  # Vamos a guardar el error en cada pliego\n",
        "\n",
        "ind = 0\n",
        "for train_index, test_index in cv.split(X1):\n",
        "    X1_train, X1_val, y1_train, y1_val = X1.iloc[train_index], X1.iloc[val_index], y1.iloc[train_index], y1.iloc[val_index]\n",
        "    modelo1.fit(X1_train, y1_train)\n",
        "\n",
        "    y1_pred = modelo1.predict(X1_val)\n",
        "    rmse1[ind] = np.sqrt(mean_squared_error(y1_val, y1_pred))\n",
        "    ind = ind + 1\n",
        "\n",
        "print(\"rmse del Modelo 1 :\",rmse1)\n",
        "print(\"rmse promedio del Modelo 1:\",rmse1.mean())"
      ],
      "metadata": {
        "colab": {
          "base_uri": "https://localhost:8080/"
        },
        "id": "BOJI4JpweZoX",
        "outputId": "203ee966-be9c-4782-a2b1-e1995f4e9043"
      },
      "execution_count": 235,
      "outputs": [
        {
          "output_type": "stream",
          "name": "stdout",
          "text": [
            "rmse del Modelo 1 : [0.03517727 0.03451623 0.03506241 0.03511685 0.03376425 0.03543851]\n",
            "rmse promedio del Modelo 1: 0.034845921382388345\n"
          ]
        }
      ]
    },
    {
      "cell_type": "markdown",
      "source": [
        "######**Modelo 2**"
      ],
      "metadata": {
        "id": "a13OFsn8ilnn"
      }
    },
    {
      "cell_type": "markdown",
      "source": [
        "¿Qué es lo que haremos para este segundo modelo?\n",
        "\n",
        "* Lo primero que haremos será crear un DataFrame en el cuál esten agrupados las líneas de colectivos que posean el mismo municipio. Posteriormente, eligiremos 5 líneas que poseean el mismo municipio que BSAS_LINEA_009 y a su vez le pediremos la condición de que estas 5 líneas esten dentro de las empresas top 5 en cuanto a la cantidad de personas que abarcan.\n",
        "\n",
        "\n",
        "¿Por qué hacemos esto?\n",
        "\n",
        "* Consideramos que debe de haber una relación a la hora de elegir líneas según el municipio en común, por otro lado entendemos que al elegir las líneas que este en las empresas top 5 estás tendran más información de aporte en nuestro modelo."
      ],
      "metadata": {
        "id": "PRofIewnniQw"
      }
    },
    {
      "cell_type": "code",
      "source": [
        "#Generamos un DataFrame en el cuál tengan agrupadas las líneas que coincidan con el mismo municipio\n",
        "municipios = datos_totales.copy()\n",
        "municipios = municipios[(municipios['amba'] == 'SI') & (municipios['dato_preliminar'] == \"NO\") & (municipios['tipo_transporte'] == \"COLECTIVO\")]\n",
        "municipios_por_empresa_lista = municipios.groupby('municipio')['linea'].apply(lambda x: list(set(x))).reset_index()\n",
        "municipios_por_empresa_lista.columns = ['municipio', 'lineas']\n",
        "\n",
        "#Ahora bien queremos buscar el municipio en particular de la línea BSAS_LINEA_009, para así entonces obtener a todas las líneas que estan en ese municipio\n",
        "linea_buscada = 'BSAS_LINEA_009'\n",
        "lineas_mismo_municipio = municipios_por_empresa_lista[municipios_por_empresa_lista['lineas'].apply(lambda x: linea_buscada in x)]\n",
        "municipio_lineas = lineas_mismo_municipio['municipio'].iloc[0]\n",
        "lineas_mismo_municipio = np.array(lineas_mismo_municipio['lineas'].tolist())[0]\n",
        "\n",
        "\n",
        "#Por otro lado, como para nuestros modelos filtramos el dataFrame quedandonos así con una menor cantidad de líneas, lo que vamos a hacer es filtrar las líneas que abarcan en el municipio de BSAS_LINEA_009 con las del dataFrame\n",
        "lineas_filtradas = np.array(datos_lineas.columns)\n",
        "lineas_del_data = np.intersect1d(lineas_mismo_municipio, lineas_filtradas)\n",
        "\n",
        "#Nos quedamos con las líneas que poseen mismo municpio de BSAS_LINEA_009 y estan en nuestro dataFrame a la hora de realizar el modelo\n",
        "print(f\"Las líneas que posee el mismo municipio '{municipio_lineas}', de BSAS_LINEA_009 son: {lineas_mismo_municipio}\")"
      ],
      "metadata": {
        "colab": {
          "base_uri": "https://localhost:8080/"
        },
        "collapsed": true,
        "id": "HUayOBuIeldj",
        "outputId": "4c5e6060-8baf-4986-cb98-8e737bd65b8e"
      },
      "execution_count": 226,
      "outputs": [
        {
          "output_type": "stream",
          "name": "stdout",
          "text": [
            "Las líneas que posee el mismo municipio 'SD', de BSAS_LINEA_009 son: ['BSAS_LINEA_032' 'BSAS_LINEA_041' 'BSAS_LINEA_015' 'BSAS_LINEA_163'\n",
            " 'BSAS_LINEA_098' 'BSAS_LINEA_146' 'BSAS_LINEA_080' 'LINEA 33'\n",
            " 'BSAS_LINEA_068' 'BSAS_LINEA_067' 'BSAS_LINEA_111' 'BSAS_LINEA_150'\n",
            " 'BSAS_LINEA_019' 'BSAS_LINEA_108' 'BSAS_LINEA_126' 'LINEA 101' 'LINEA 12'\n",
            " 'BSAS_LINEA_055' 'BSAS_LINEA_063' 'LINEA_119_AMBA' 'BSAS_LINEA_115'\n",
            " 'BSAS_LINEA_117' 'BSAS_LINEA_097' 'BSAS_LINEA_103' 'BSAS_LINEA_182'\n",
            " 'BSAS_LINEA_188' 'BSAS_LINEA_124' 'LINEA 107' 'BSAS_LINEA_091'\n",
            " 'BSAS_LINEA_053' 'BSAS_LINEA_062' 'BSAS_LINEA_195' 'BSAS_LINEA_020'\n",
            " 'BSAS_LINEA_106' 'BSAS_LINEA_174' 'BSAS_LINEA_065' 'BSAS_LINEA_047'\n",
            " 'BSAS_LINEA_193' 'BSAS_LINEA_154' 'BSAS_LINEA_25' 'LINEA 145'\n",
            " 'BSAS_LINEA_026' 'BSAS_LINEA_017' 'LINEA 28' 'LINEA 23' 'BSAS_LINEA_021'\n",
            " 'BSAS_LINEA_140' 'LINEA_164_AMBA' 'BSAS_LINEA_148' 'BSAS_LINEA_010'\n",
            " 'BSAS_LINEA_159' 'LINEA 8' 'BSAS_LINEA_051' 'BSAS_LINEA_158'\n",
            " 'BS_ASLINEA_123' 'BSAS_LINEA_022' 'BSAS_LINEA_135' 'BSAS_LINEA_114'\n",
            " 'BSAS_LINEA_029' 'BSAS_LINEA_129' 'BSAS_LINEA_31' 'BSAS_LINEA_087'\n",
            " 'BSAS_LINEA_109' 'BSAS_LINEA_110' 'BSAS_LINEA_095' 'BSAS_LINEA_093'\n",
            " 'BSAS_LINEA_128' 'BSAS_LINEA_180' 'BSAS_LINEA_078' 'BSAS_LINEA_172'\n",
            " 'BSAS_LINEA_176' 'BSAS_LINEA_046' 'BSAS_LINEA_088' 'BSAS_LINEA_064'\n",
            " 'BSAS_LINEA_166' 'BSAS_LINEA_134' 'BSAS_LINEA_002' 'BSAS_LINEA_057'\n",
            " 'BSAS_LINEA_102' 'BSAS_LINEA_136' 'LINEA 42' 'LINEA 6' 'BSAS_LINEA_127'\n",
            " 'LINEA 44' 'BSAS_LINEA_009' 'BSAS_LINEA_100' 'LINEA 5' 'BSAS_LINEA_132'\n",
            " 'BSAS_LINEA_161' 'BSAS_LINEA_037' 'LINEA 7' 'LINEA 119' 'BSAS_LINEA_169'\n",
            " 'BSAS_LINEA_179' 'BSAS_LINEA_160' 'LINEA 1' 'LINEA 4' 'BSAS_LINEA_085'\n",
            " 'BSAS_LINEA_071' 'BSAS_LINEA_105' 'BSAS_LINEA_151' 'BSAS_LINEA_084'\n",
            " 'LINEA 76' 'BSAS_LINEA_130' 'BSAS_LINEA_079' 'BSAS_LINEA_056'\n",
            " 'BSAS_LINEA_181' 'BSAS_LINEA_086' 'BSAS_LINEA_177' 'BSAS_LINEA_152'\n",
            " 'BSAS_LINEA_153' 'LINEA_099' 'BSAS_LINEA_118' 'BSAS_LINEA_113'\n",
            " 'BSAS_LINEA_194' 'BSAS_LINEA_034' 'BSAS_LINEA_133' 'BSAS_LINEA_096'\n",
            " 'BSAS_LINEA_061' 'BSAS_LINEA_024' 'BSAS_LINEA_045' 'BSAS_LINEA_178'\n",
            " 'BSAS_LINEA_039' 'BSAS_LINEA_074' 'BSAS_LINEA_143' 'BSAS_LINEA_070'\n",
            " 'BSAS_LINEA_090' 'BSAS_LINEA_168' 'BSAS_LINEA_075' 'BSAS_LINEA_092'\n",
            " 'LINEA 184' 'BSAS_LINEA_060' 'BSAS_LINEA_049' 'BSAS_LINEA_059'\n",
            " 'BSAS_LINEA_185' 'LINEA 50']\n"
          ]
        }
      ]
    },
    {
      "cell_type": "code",
      "source": [
        "# Ahora bien, realizamos un DataFrame en el cuál vamos filtrar las líneas correspondientes al municipio SD que estan en empresas top 5\n",
        "colectivos = datos_totales.copy()\n",
        "colectivos = colectivos[(colectivos['amba'] == 'SI') & (colectivos['dato_preliminar'] == \"NO\") & (colectivos['tipo_transporte'] == \"COLECTIVO\")]\n",
        "\n",
        "# Agrupamos por 'empresa', 'municipio' y obtenemos una lista de líneas de colectivos\n",
        "Empresas_municipios = colectivos.groupby(['nombre_empresa', 'municipio']).agg({'linea': lambda x: list(set(x))}).reset_index()\n",
        "\n",
        "#Filtramos por nuestro municipio de interés\n",
        "Empresas_municipios = Empresas_municipios[Empresas_municipios[\"municipio\"] == municipio_lineas]\n",
        "\n",
        "#Filtramos pór las empresas top 5\n",
        "empresas_top = Empresas_municipios[Empresas_municipios['nombre_empresa'].isin(top_5_empresas[\"nombre_empresa\"].values)]\n",
        "lineas_top_5 = empresas_top.copy()\n",
        "# Convertir las listas de líneas en cadenas de texto\n",
        "lineas_top_5['linea'] = lineas_top_5['linea'].apply(lambda x: ', '.join(x))\n",
        "display(lineas_top_5['linea'].values)"
      ],
      "metadata": {
        "colab": {
          "base_uri": "https://localhost:8080/",
          "height": 86
        },
        "id": "VjiGt1keoqAJ",
        "outputId": "0fd1bdb6-7848-4fa3-83ae-24bcc8a56d88"
      },
      "execution_count": 224,
      "outputs": [
        {
          "output_type": "display_data",
          "data": {
            "text/plain": [
              "array(['BSAS_LINEA_166',\n",
              "       'BSAS_LINEA_25, BSAS_LINEA_009, BSAS_LINEA_084, LINEA_164_AMBA',\n",
              "       'BSAS_LINEA_172, BSAS_LINEA_174',\n",
              "       'BSAS_LINEA_065, BSAS_LINEA_195, BSAS_LINEA_194'], dtype=object)"
            ]
          },
          "metadata": {}
        }
      ]
    },
    {
      "cell_type": "markdown",
      "source": [
        "Ahora estamos en condiciones de elegir las líneas que poseen el mismo municipío que BSAS_LINEA_009 y están en las empresas top 5.\n",
        "\n",
        "Para este modelo, elegiremos a las líneas según el orden correspondiente y sin contarse así misma.\n",
        "\n",
        "Por lo que el modelo será:\n",
        "\n",
        " **BSAS_LINEA_009 ~ BSAS_LINEA_166 + BSAS_LINEA_25 + BSAS_LINEA_084 + LINEA_164_AMBA + BSAS_LINEA_172**"
      ],
      "metadata": {
        "id": "smW64Zfc4jwt"
      }
    },
    {
      "cell_type": "code",
      "source": [
        "formula_2 = 'BSAS_LINEA_009 ~ BSAS_LINEA_166 + BSAS_LINEA_25 + BSAS_LINEA_084 + LINEA_164_AMBA + BSAS_LINEA_172'\n",
        "\n",
        "y2, X2 = (\n",
        "    Formula(formula_2)\n",
        "    .get_model_matrix(df_train)\n",
        ")\n",
        "\n",
        "# Definimos los subconjuntos para la validación cruzada.\n",
        "# Realizamos KFold con 6 pliegos\n",
        "cv = KFold(n_splits=6, random_state=42, shuffle=True)\n",
        "\n",
        "# Inicializamos un modelo de Regresion lineal sin intercept\n",
        "modelo2 = linear_model.LinearRegression(fit_intercept = False)\n",
        "rmse2 = np.zeros(cv.get_n_splits())  # Vamos a guardar el error en cada pliego\n",
        "\n",
        "ind = 0\n",
        "\n",
        "for train_index, test_index in cv.split(X2):\n",
        "    X2_train, X2_val, y2_train, y2_val = X2.iloc[train_index], X2.iloc[val_index], y2.iloc[train_index], y2.iloc[val_index]\n",
        "    modelo2.fit(X2_train, y2_train)\n",
        "\n",
        "    y2_pred = modelo2.predict(X2_val)\n",
        "    rmse2[ind] = np.sqrt(mean_squared_error(y2_val, y2_pred))\n",
        "    ind = ind + 1\n",
        "\n",
        "print(\"rmse del Modelo 2 :\",rmse1)\n",
        "print(\"rmse promedio del Modelo 2:\",rmse1.mean())"
      ],
      "metadata": {
        "colab": {
          "base_uri": "https://localhost:8080/"
        },
        "id": "A3SWS-hJ0Xfw",
        "outputId": "002ee9c9-8b17-4dc3-fc50-0fe9b3c118a9"
      },
      "execution_count": 236,
      "outputs": [
        {
          "output_type": "stream",
          "name": "stdout",
          "text": [
            "rmse del Modelo 2 : [0.03517727 0.03451623 0.03506241 0.03511685 0.03376425 0.03543851]\n",
            "rmse promedio del Modelo 2: 0.034845921382388345\n"
          ]
        }
      ]
    },
    {
      "cell_type": "markdown",
      "source": [],
      "metadata": {
        "id": "8wYDCQbN5ezO"
      }
    },
    {
      "cell_type": "markdown",
      "source": [
        "######**Modelo 3**"
      ],
      "metadata": {
        "id": "cXY3ZpXM5h7C"
      }
    },
    {
      "cell_type": "code",
      "source": [],
      "metadata": {
        "id": "z1SXR3aM5oCa"
      },
      "execution_count": null,
      "outputs": []
    },
    {
      "cell_type": "markdown",
      "source": [
        "######**Modelo eligido**"
      ],
      "metadata": {
        "id": "62XTDbmYEA7S"
      }
    },
    {
      "cell_type": "markdown",
      "source": [
        "Dadas las pruebas realizadas con los modelos anteriores, hemos elegido al modelo 1 como el que mayor rendimiento posee en cuanto a la predicción y error cometidos.\n",
        "\n",
        "Por lo que el modelo ganador es:\n",
        "\n",
        "\n",
        "**BSAS_LINEA_009 ~ BSAS_LINEA_108 + BSAS_LINEA_111 + BSAS_LINEA_135 + BSAS_LINEA_178 + LINEA_101**"
      ],
      "metadata": {
        "id": "tqJQe09CEHGi"
      }
    },
    {
      "cell_type": "code",
      "source": [
        "# Ajustamos a nuestro modelo ganador en TODO el conjunto de entrenamiento.\n",
        "modelo1.fit(X1, y1)\n",
        "\n",
        "# Realizamos las mismas transformaciones en el conjunto de testeo\n",
        "y1_test, X1_test = (\n",
        "    Formula(formula_1)\n",
        "    .get_model_matrix(df_test)\n",
        ")\n",
        "\n",
        "# Predicciones\n",
        "y1_pred = modelo1.predict(X1_test)\n",
        "\n",
        "# Bondad del ajuste\n",
        "r2 = r2_score(y1_test, y1_pred)\n",
        "print('R^2 del modelo 1 : ', r2)\n",
        "ecm = mean_squared_error(y1_test, y1_pred)\n",
        "print('ECM del modelo 1: ', np.sqrt(ecm))"
      ],
      "metadata": {
        "colab": {
          "base_uri": "https://localhost:8080/"
        },
        "id": "ZGSY94uPEffW",
        "outputId": "6c4e2342-8096-41c2-d89b-1c0d052ff8b7"
      },
      "execution_count": 311,
      "outputs": [
        {
          "output_type": "stream",
          "name": "stdout",
          "text": [
            "R^2 del modelo 1 :  0.9614462573688983\n",
            "ECM del modelo 1:  0.04500665241971581\n"
          ]
        }
      ]
    }
  ]
}