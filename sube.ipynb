{
 "cells": [
  {
   "cell_type": "code",
   "execution_count": 2,
   "metadata": {},
   "outputs": [],
   "source": [
    "import numpy as np\n",
    "import pandas as pd\n",
    "import seaborn as sns\n",
    "import seaborn.objects as so"
   ]
  },
  {
   "cell_type": "code",
   "execution_count": 47,
   "metadata": {},
   "outputs": [],
   "source": [
    "# Cargamos el archivo\n",
    "data_sube = pd.read_csv(\"./sube-2023.csv\")"
   ]
  },
  {
   "cell_type": "code",
   "execution_count": 46,
   "metadata": {},
   "outputs": [],
   "source": [
    "# Paso a formato dia\n",
    "data_sube['DIA_TRANSPORTE'] = pd.to_datetime(data_sube['DIA_TRANSPORTE'], format=\"%Y-%m-%d\")\n",
    "\n",
    "# Dias de la semana\n",
    "data_sube['FECHA_DIA'] = data_sube['DIA_TRANSPORTE'].dt.dayofweek\n",
    "week_days = ['Lunes', 'Martes', 'Miercoles', 'Jueves', 'Viernes', 'Sabado', 'Domingo']\n",
    "data_sube['FECHA_DIA'] = data_sube['FECHA_DIA'].apply(lambda x: week_days[x])\n",
    "\n",
    "# numero de mes\n",
    "data_sube['MES'] = data_sube['DIA_TRANSPORTE'].dt.month\n",
    "\n",
    "# orden del dia (fecha ordinal)\n",
    "data_sube['FECHA_ORDINAL'] = data_sube['DIA_TRANSPORTE'].dt.day_of_year\n"
   ]
  },
  {
   "cell_type": "code",
   "execution_count": 45,
   "metadata": {},
   "outputs": [],
   "source": [
    "# DIA_TRANSPORTE tiene que ser tipo datetime\n",
    "assert data_sube['DIA_TRANSPORTE'].dtype == 'datetime64[ns]'\n",
    "\n",
    "# Dias de la semana\n",
    "assert data_sube['FECHA_DIA'].drop_duplicates().count() == 7 # Tienen que ser 7 dias distintos\n",
    "assert data_sube['FECHA_DIA'].isin(week_days).all() # Tienen que ser los del arreglo\n",
    "\n",
    "# Tiene que haber 365 dias distintos en el año\n",
    "assert data_sube['FECHA_ORDINAL'].drop_duplicates().count() == 365\n",
    "\n"
   ]
  },
  {
   "cell_type": "markdown",
   "metadata": {},
   "source": []
  },
  {
   "cell_type": "code",
   "execution_count": 14,
   "metadata": {},
   "outputs": [
    {
     "data": {
      "text/html": [
       "<div>\n",
       "<style scoped>\n",
       "    .dataframe tbody tr th:only-of-type {\n",
       "        vertical-align: middle;\n",
       "    }\n",
       "\n",
       "    .dataframe tbody tr th {\n",
       "        vertical-align: top;\n",
       "    }\n",
       "\n",
       "    .dataframe thead th {\n",
       "        text-align: right;\n",
       "    }\n",
       "</style>\n",
       "<table border=\"1\" class=\"dataframe\">\n",
       "  <thead>\n",
       "    <tr style=\"text-align: right;\">\n",
       "      <th></th>\n",
       "      <th>dia_transporte</th>\n",
       "      <th>fecha_dia</th>\n",
       "      <th>mes</th>\n",
       "      <th>jurisdiccion</th>\n",
       "      <th>linea</th>\n",
       "      <th>pasajeros</th>\n",
       "      <th>tipo_transporte</th>\n",
       "    </tr>\n",
       "  </thead>\n",
       "  <tbody>\n",
       "    <tr>\n",
       "      <th>0</th>\n",
       "      <td>2023-01-01</td>\n",
       "      <td>Domingo</td>\n",
       "      <td>01</td>\n",
       "      <td>MUNICIPAL</td>\n",
       "      <td>1</td>\n",
       "      <td>61</td>\n",
       "      <td>COLECTIVO</td>\n",
       "    </tr>\n",
       "    <tr>\n",
       "      <th>1</th>\n",
       "      <td>2023-01-01</td>\n",
       "      <td>Domingo</td>\n",
       "      <td>01</td>\n",
       "      <td>MUNICIPAL</td>\n",
       "      <td>2B</td>\n",
       "      <td>11</td>\n",
       "      <td>COLECTIVO</td>\n",
       "    </tr>\n",
       "    <tr>\n",
       "      <th>2</th>\n",
       "      <td>2023-01-01</td>\n",
       "      <td>Domingo</td>\n",
       "      <td>01</td>\n",
       "      <td>MUNICIPAL</td>\n",
       "      <td>BS_AS_LINEA 715M</td>\n",
       "      <td>1707</td>\n",
       "      <td>COLECTIVO</td>\n",
       "    </tr>\n",
       "    <tr>\n",
       "      <th>3</th>\n",
       "      <td>2023-01-01</td>\n",
       "      <td>Domingo</td>\n",
       "      <td>01</td>\n",
       "      <td>PROVINCIAL</td>\n",
       "      <td>BS_AS_LINEA_326</td>\n",
       "      <td>438</td>\n",
       "      <td>COLECTIVO</td>\n",
       "    </tr>\n",
       "    <tr>\n",
       "      <th>4</th>\n",
       "      <td>2023-01-01</td>\n",
       "      <td>Domingo</td>\n",
       "      <td>01</td>\n",
       "      <td>MUNICIPAL</td>\n",
       "      <td>BS_AS_LINEA_512</td>\n",
       "      <td>1189</td>\n",
       "      <td>COLECTIVO</td>\n",
       "    </tr>\n",
       "  </tbody>\n",
       "</table>\n",
       "</div>"
      ],
      "text/plain": [
       "  dia_transporte fecha_dia mes jurisdiccion             linea  pasajeros  \\\n",
       "0     2023-01-01   Domingo  01    MUNICIPAL                 1         61   \n",
       "1     2023-01-01   Domingo  01    MUNICIPAL                2B         11   \n",
       "2     2023-01-01   Domingo  01    MUNICIPAL  BS_AS_LINEA 715M       1707   \n",
       "3     2023-01-01   Domingo  01   PROVINCIAL   BS_AS_LINEA_326        438   \n",
       "4     2023-01-01   Domingo  01    MUNICIPAL   BS_AS_LINEA_512       1189   \n",
       "\n",
       "  tipo_transporte  \n",
       "0       COLECTIVO  \n",
       "1       COLECTIVO  \n",
       "2       COLECTIVO  \n",
       "3       COLECTIVO  \n",
       "4       COLECTIVO  "
      ]
     },
     "execution_count": 14,
     "metadata": {},
     "output_type": "execute_result"
    }
   ],
   "source": [
    "datos_amba = data_sube[data_sube['PROVINCIA'] == 'BUENOS AIRES']\n",
    "datos_amba = datos_amba.rename(lambda x: x.lower(), axis=1) # axis 1 para apuntarle a las columnas\n",
    "datos_amba = datos_amba[['dia_transporte', 'fecha_dia', 'mes', 'jurisdiccion', 'linea', 'cantidad', 'tipo_transporte']]\n",
    "datos_amba = datos_amba.rename(columns={\n",
    "    \"cantidad\": \"pasajeros\"\n",
    "})\n",
    "datos_amba[\"mes\"] = datos_amba['mes'].apply(lambda n : \"0\"+str(n) if n < 10 else str(n))\n",
    "datos_amba.head()"
   ]
  },
  {
   "cell_type": "code",
   "execution_count": 132,
   "metadata": {},
   "outputs": [
    {
     "data": {
      "text/plain": [
       "1730129133"
      ]
     },
     "execution_count": 132,
     "metadata": {},
     "output_type": "execute_result"
    }
   ],
   "source": [
    "so.Plot(datos_amba, x=\"mes\", y='pasajeros').add(so.Bars(), so.Agg('sum')).facet('tipo_transporte')\n",
    "colectivos = datos_amba[datos_amba['tipo_transporte'] == 'COLECTIVO']\n",
    "colectivos = colectivos['pasajeros'].sum()\n",
    "colectivos\n"
   ]
  },
  {
   "cell_type": "code",
   "execution_count": null,
   "metadata": {},
   "outputs": [],
   "source": []
  }
 ],
 "metadata": {
  "kernelspec": {
   "display_name": "Python 3 (ipykernel)",
   "language": "python",
   "name": "python3"
  },
  "language_info": {
   "codemirror_mode": {
    "name": "ipython",
    "version": 3
   },
   "file_extension": ".py",
   "mimetype": "text/x-python",
   "name": "python",
   "nbconvert_exporter": "python",
   "pygments_lexer": "ipython3",
   "version": "3.11.5"
  }
 },
 "nbformat": 4,
 "nbformat_minor": 2
}
